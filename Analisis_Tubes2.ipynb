{
  "cells": [
    {
      "cell_type": "markdown",
      "metadata": {
        "id": "eN3VlVI7xalP"
      },
      "source": [
        "# **Tugas Besar 2: Analisis Data Menggunakan Python dan Excel**\n",
        "## **Anggota Kelompok 5:**\n",
        "1. Dewantoro Triatmojo / 19622152\n",
        "2. Berto Togatorop / 19622192\n",
        "2. Randy Verdian / 19622202\n",
        "4. Aira Ardistya Akbarsyah / 16522062"
      ]
    },
    {
      "cell_type": "markdown",
      "metadata": {
        "id": "bn6x76xnJ5ZI"
      },
      "source": [
        "\n",
        "\n",
        "---\n",
        "\n",
        "\n",
        "# **Deskripsi Data dan File**\n",
        "- Data yang kami pilih adalah data QS Ranking Universitas Dunia dari tahun 2017 sampai tahun 2022. Kami ambil data hanya untuk 400 besar dunia (setelah dibersihkan)\n",
        "- Pengetahuan yang ingin kami ketahui dari data yang kami ambil adalah\n",
        "\n",
        "  1. Apa yang membuat ranking universitas tinggi?\n",
        "  2. Apakah lokasi universitas mempengaruhi rankingnya?\n",
        "  3. Apa kesamaan universitas-universitas dengan ranking tinggi?\n",
        "  4. Seberapa penting academic research untuk universitas?\n",
        "  5. Negara mana yang paling disukai international students?\n",
        "  6. TAMBAH LAGI"
      ]
    },
    {
      "cell_type": "markdown",
      "source": [
        "- Untuk meloading data dan mengetahui berbagai informasi terkait data, kami menggunakan library Pandas Python"
      ],
      "metadata": {
        "id": "k1J-cELZILrg"
      }
    },
    {
      "cell_type": "code",
      "execution_count": null,
      "metadata": {
        "colab": {
          "base_uri": "https://localhost:8080/",
          "height": 128
        },
        "id": "ZK2ekcvWDSrM",
        "outputId": "227336eb-082b-4936-c8ce-7ff4351ad150"
      },
      "outputs": [
        {
          "output_type": "display_data",
          "data": {
            "text/plain": [
              "<IPython.core.display.HTML object>"
            ],
            "text/html": [
              "\n",
              "     <input type=\"file\" id=\"files-8be89de9-a5e7-40a6-a6ab-768ce22bb630\" name=\"files[]\" multiple disabled\n",
              "        style=\"border:none\" />\n",
              "     <output id=\"result-8be89de9-a5e7-40a6-a6ab-768ce22bb630\">\n",
              "      Upload widget is only available when the cell has been executed in the\n",
              "      current browser session. Please rerun this cell to enable.\n",
              "      </output>\n",
              "      <script>// Copyright 2017 Google LLC\n",
              "//\n",
              "// Licensed under the Apache License, Version 2.0 (the \"License\");\n",
              "// you may not use this file except in compliance with the License.\n",
              "// You may obtain a copy of the License at\n",
              "//\n",
              "//      http://www.apache.org/licenses/LICENSE-2.0\n",
              "//\n",
              "// Unless required by applicable law or agreed to in writing, software\n",
              "// distributed under the License is distributed on an \"AS IS\" BASIS,\n",
              "// WITHOUT WARRANTIES OR CONDITIONS OF ANY KIND, either express or implied.\n",
              "// See the License for the specific language governing permissions and\n",
              "// limitations under the License.\n",
              "\n",
              "/**\n",
              " * @fileoverview Helpers for google.colab Python module.\n",
              " */\n",
              "(function(scope) {\n",
              "function span(text, styleAttributes = {}) {\n",
              "  const element = document.createElement('span');\n",
              "  element.textContent = text;\n",
              "  for (const key of Object.keys(styleAttributes)) {\n",
              "    element.style[key] = styleAttributes[key];\n",
              "  }\n",
              "  return element;\n",
              "}\n",
              "\n",
              "// Max number of bytes which will be uploaded at a time.\n",
              "const MAX_PAYLOAD_SIZE = 100 * 1024;\n",
              "\n",
              "function _uploadFiles(inputId, outputId) {\n",
              "  const steps = uploadFilesStep(inputId, outputId);\n",
              "  const outputElement = document.getElementById(outputId);\n",
              "  // Cache steps on the outputElement to make it available for the next call\n",
              "  // to uploadFilesContinue from Python.\n",
              "  outputElement.steps = steps;\n",
              "\n",
              "  return _uploadFilesContinue(outputId);\n",
              "}\n",
              "\n",
              "// This is roughly an async generator (not supported in the browser yet),\n",
              "// where there are multiple asynchronous steps and the Python side is going\n",
              "// to poll for completion of each step.\n",
              "// This uses a Promise to block the python side on completion of each step,\n",
              "// then passes the result of the previous step as the input to the next step.\n",
              "function _uploadFilesContinue(outputId) {\n",
              "  const outputElement = document.getElementById(outputId);\n",
              "  const steps = outputElement.steps;\n",
              "\n",
              "  const next = steps.next(outputElement.lastPromiseValue);\n",
              "  return Promise.resolve(next.value.promise).then((value) => {\n",
              "    // Cache the last promise value to make it available to the next\n",
              "    // step of the generator.\n",
              "    outputElement.lastPromiseValue = value;\n",
              "    return next.value.response;\n",
              "  });\n",
              "}\n",
              "\n",
              "/**\n",
              " * Generator function which is called between each async step of the upload\n",
              " * process.\n",
              " * @param {string} inputId Element ID of the input file picker element.\n",
              " * @param {string} outputId Element ID of the output display.\n",
              " * @return {!Iterable<!Object>} Iterable of next steps.\n",
              " */\n",
              "function* uploadFilesStep(inputId, outputId) {\n",
              "  const inputElement = document.getElementById(inputId);\n",
              "  inputElement.disabled = false;\n",
              "\n",
              "  const outputElement = document.getElementById(outputId);\n",
              "  outputElement.innerHTML = '';\n",
              "\n",
              "  const pickedPromise = new Promise((resolve) => {\n",
              "    inputElement.addEventListener('change', (e) => {\n",
              "      resolve(e.target.files);\n",
              "    });\n",
              "  });\n",
              "\n",
              "  const cancel = document.createElement('button');\n",
              "  inputElement.parentElement.appendChild(cancel);\n",
              "  cancel.textContent = 'Cancel upload';\n",
              "  const cancelPromise = new Promise((resolve) => {\n",
              "    cancel.onclick = () => {\n",
              "      resolve(null);\n",
              "    };\n",
              "  });\n",
              "\n",
              "  // Wait for the user to pick the files.\n",
              "  const files = yield {\n",
              "    promise: Promise.race([pickedPromise, cancelPromise]),\n",
              "    response: {\n",
              "      action: 'starting',\n",
              "    }\n",
              "  };\n",
              "\n",
              "  cancel.remove();\n",
              "\n",
              "  // Disable the input element since further picks are not allowed.\n",
              "  inputElement.disabled = true;\n",
              "\n",
              "  if (!files) {\n",
              "    return {\n",
              "      response: {\n",
              "        action: 'complete',\n",
              "      }\n",
              "    };\n",
              "  }\n",
              "\n",
              "  for (const file of files) {\n",
              "    const li = document.createElement('li');\n",
              "    li.append(span(file.name, {fontWeight: 'bold'}));\n",
              "    li.append(span(\n",
              "        `(${file.type || 'n/a'}) - ${file.size} bytes, ` +\n",
              "        `last modified: ${\n",
              "            file.lastModifiedDate ? file.lastModifiedDate.toLocaleDateString() :\n",
              "                                    'n/a'} - `));\n",
              "    const percent = span('0% done');\n",
              "    li.appendChild(percent);\n",
              "\n",
              "    outputElement.appendChild(li);\n",
              "\n",
              "    const fileDataPromise = new Promise((resolve) => {\n",
              "      const reader = new FileReader();\n",
              "      reader.onload = (e) => {\n",
              "        resolve(e.target.result);\n",
              "      };\n",
              "      reader.readAsArrayBuffer(file);\n",
              "    });\n",
              "    // Wait for the data to be ready.\n",
              "    let fileData = yield {\n",
              "      promise: fileDataPromise,\n",
              "      response: {\n",
              "        action: 'continue',\n",
              "      }\n",
              "    };\n",
              "\n",
              "    // Use a chunked sending to avoid message size limits. See b/62115660.\n",
              "    let position = 0;\n",
              "    do {\n",
              "      const length = Math.min(fileData.byteLength - position, MAX_PAYLOAD_SIZE);\n",
              "      const chunk = new Uint8Array(fileData, position, length);\n",
              "      position += length;\n",
              "\n",
              "      const base64 = btoa(String.fromCharCode.apply(null, chunk));\n",
              "      yield {\n",
              "        response: {\n",
              "          action: 'append',\n",
              "          file: file.name,\n",
              "          data: base64,\n",
              "        },\n",
              "      };\n",
              "\n",
              "      let percentDone = fileData.byteLength === 0 ?\n",
              "          100 :\n",
              "          Math.round((position / fileData.byteLength) * 100);\n",
              "      percent.textContent = `${percentDone}% done`;\n",
              "\n",
              "    } while (position < fileData.byteLength);\n",
              "  }\n",
              "\n",
              "  // All done.\n",
              "  yield {\n",
              "    response: {\n",
              "      action: 'complete',\n",
              "    }\n",
              "  };\n",
              "}\n",
              "\n",
              "scope.google = scope.google || {};\n",
              "scope.google.colab = scope.google.colab || {};\n",
              "scope.google.colab._files = {\n",
              "  _uploadFiles,\n",
              "  _uploadFilesContinue,\n",
              "};\n",
              "})(self);\n",
              "</script> "
            ]
          },
          "metadata": {}
        },
        {
          "output_type": "stream",
          "name": "stdout",
          "text": [
            "Saving qs-world-university-rankings-2017-to-2022-V2.csv to qs-world-university-rankings-2017-to-2022-V2 (1).csv\n"
          ]
        },
        {
          "output_type": "display_data",
          "data": {
            "text/plain": [
              "<IPython.core.display.HTML object>"
            ],
            "text/html": [
              "\n",
              "     <input type=\"file\" id=\"files-2bb2f234-f9a1-4f49-9eb1-8ac292de6746\" name=\"files[]\" multiple disabled\n",
              "        style=\"border:none\" />\n",
              "     <output id=\"result-2bb2f234-f9a1-4f49-9eb1-8ac292de6746\">\n",
              "      Upload widget is only available when the cell has been executed in the\n",
              "      current browser session. Please rerun this cell to enable.\n",
              "      </output>\n",
              "      <script>// Copyright 2017 Google LLC\n",
              "//\n",
              "// Licensed under the Apache License, Version 2.0 (the \"License\");\n",
              "// you may not use this file except in compliance with the License.\n",
              "// You may obtain a copy of the License at\n",
              "//\n",
              "//      http://www.apache.org/licenses/LICENSE-2.0\n",
              "//\n",
              "// Unless required by applicable law or agreed to in writing, software\n",
              "// distributed under the License is distributed on an \"AS IS\" BASIS,\n",
              "// WITHOUT WARRANTIES OR CONDITIONS OF ANY KIND, either express or implied.\n",
              "// See the License for the specific language governing permissions and\n",
              "// limitations under the License.\n",
              "\n",
              "/**\n",
              " * @fileoverview Helpers for google.colab Python module.\n",
              " */\n",
              "(function(scope) {\n",
              "function span(text, styleAttributes = {}) {\n",
              "  const element = document.createElement('span');\n",
              "  element.textContent = text;\n",
              "  for (const key of Object.keys(styleAttributes)) {\n",
              "    element.style[key] = styleAttributes[key];\n",
              "  }\n",
              "  return element;\n",
              "}\n",
              "\n",
              "// Max number of bytes which will be uploaded at a time.\n",
              "const MAX_PAYLOAD_SIZE = 100 * 1024;\n",
              "\n",
              "function _uploadFiles(inputId, outputId) {\n",
              "  const steps = uploadFilesStep(inputId, outputId);\n",
              "  const outputElement = document.getElementById(outputId);\n",
              "  // Cache steps on the outputElement to make it available for the next call\n",
              "  // to uploadFilesContinue from Python.\n",
              "  outputElement.steps = steps;\n",
              "\n",
              "  return _uploadFilesContinue(outputId);\n",
              "}\n",
              "\n",
              "// This is roughly an async generator (not supported in the browser yet),\n",
              "// where there are multiple asynchronous steps and the Python side is going\n",
              "// to poll for completion of each step.\n",
              "// This uses a Promise to block the python side on completion of each step,\n",
              "// then passes the result of the previous step as the input to the next step.\n",
              "function _uploadFilesContinue(outputId) {\n",
              "  const outputElement = document.getElementById(outputId);\n",
              "  const steps = outputElement.steps;\n",
              "\n",
              "  const next = steps.next(outputElement.lastPromiseValue);\n",
              "  return Promise.resolve(next.value.promise).then((value) => {\n",
              "    // Cache the last promise value to make it available to the next\n",
              "    // step of the generator.\n",
              "    outputElement.lastPromiseValue = value;\n",
              "    return next.value.response;\n",
              "  });\n",
              "}\n",
              "\n",
              "/**\n",
              " * Generator function which is called between each async step of the upload\n",
              " * process.\n",
              " * @param {string} inputId Element ID of the input file picker element.\n",
              " * @param {string} outputId Element ID of the output display.\n",
              " * @return {!Iterable<!Object>} Iterable of next steps.\n",
              " */\n",
              "function* uploadFilesStep(inputId, outputId) {\n",
              "  const inputElement = document.getElementById(inputId);\n",
              "  inputElement.disabled = false;\n",
              "\n",
              "  const outputElement = document.getElementById(outputId);\n",
              "  outputElement.innerHTML = '';\n",
              "\n",
              "  const pickedPromise = new Promise((resolve) => {\n",
              "    inputElement.addEventListener('change', (e) => {\n",
              "      resolve(e.target.files);\n",
              "    });\n",
              "  });\n",
              "\n",
              "  const cancel = document.createElement('button');\n",
              "  inputElement.parentElement.appendChild(cancel);\n",
              "  cancel.textContent = 'Cancel upload';\n",
              "  const cancelPromise = new Promise((resolve) => {\n",
              "    cancel.onclick = () => {\n",
              "      resolve(null);\n",
              "    };\n",
              "  });\n",
              "\n",
              "  // Wait for the user to pick the files.\n",
              "  const files = yield {\n",
              "    promise: Promise.race([pickedPromise, cancelPromise]),\n",
              "    response: {\n",
              "      action: 'starting',\n",
              "    }\n",
              "  };\n",
              "\n",
              "  cancel.remove();\n",
              "\n",
              "  // Disable the input element since further picks are not allowed.\n",
              "  inputElement.disabled = true;\n",
              "\n",
              "  if (!files) {\n",
              "    return {\n",
              "      response: {\n",
              "        action: 'complete',\n",
              "      }\n",
              "    };\n",
              "  }\n",
              "\n",
              "  for (const file of files) {\n",
              "    const li = document.createElement('li');\n",
              "    li.append(span(file.name, {fontWeight: 'bold'}));\n",
              "    li.append(span(\n",
              "        `(${file.type || 'n/a'}) - ${file.size} bytes, ` +\n",
              "        `last modified: ${\n",
              "            file.lastModifiedDate ? file.lastModifiedDate.toLocaleDateString() :\n",
              "                                    'n/a'} - `));\n",
              "    const percent = span('0% done');\n",
              "    li.appendChild(percent);\n",
              "\n",
              "    outputElement.appendChild(li);\n",
              "\n",
              "    const fileDataPromise = new Promise((resolve) => {\n",
              "      const reader = new FileReader();\n",
              "      reader.onload = (e) => {\n",
              "        resolve(e.target.result);\n",
              "      };\n",
              "      reader.readAsArrayBuffer(file);\n",
              "    });\n",
              "    // Wait for the data to be ready.\n",
              "    let fileData = yield {\n",
              "      promise: fileDataPromise,\n",
              "      response: {\n",
              "        action: 'continue',\n",
              "      }\n",
              "    };\n",
              "\n",
              "    // Use a chunked sending to avoid message size limits. See b/62115660.\n",
              "    let position = 0;\n",
              "    do {\n",
              "      const length = Math.min(fileData.byteLength - position, MAX_PAYLOAD_SIZE);\n",
              "      const chunk = new Uint8Array(fileData, position, length);\n",
              "      position += length;\n",
              "\n",
              "      const base64 = btoa(String.fromCharCode.apply(null, chunk));\n",
              "      yield {\n",
              "        response: {\n",
              "          action: 'append',\n",
              "          file: file.name,\n",
              "          data: base64,\n",
              "        },\n",
              "      };\n",
              "\n",
              "      let percentDone = fileData.byteLength === 0 ?\n",
              "          100 :\n",
              "          Math.round((position / fileData.byteLength) * 100);\n",
              "      percent.textContent = `${percentDone}% done`;\n",
              "\n",
              "    } while (position < fileData.byteLength);\n",
              "  }\n",
              "\n",
              "  // All done.\n",
              "  yield {\n",
              "    response: {\n",
              "      action: 'complete',\n",
              "    }\n",
              "  };\n",
              "}\n",
              "\n",
              "scope.google = scope.google || {};\n",
              "scope.google.colab = scope.google.colab || {};\n",
              "scope.google.colab._files = {\n",
              "  _uploadFiles,\n",
              "  _uploadFilesContinue,\n",
              "};\n",
              "})(self);\n",
              "</script> "
            ]
          },
          "metadata": {}
        },
        {
          "output_type": "stream",
          "name": "stdout",
          "text": [
            "Saving qs_ranking_400_cleaned.csv to qs_ranking_400_cleaned (1).csv\n"
          ]
        }
      ],
      "source": [
        "from google.colab import files\n",
        "upload_uncleaned = files.upload()\n",
        "upload_cleaned = files.upload()"
      ]
    },
    {
      "cell_type": "code",
      "execution_count": null,
      "metadata": {
        "id": "gvxYzx3RShwl"
      },
      "outputs": [],
      "source": [
        "import pandas as pd\n",
        "import matplotlib.pyplot as plt\n",
        "\n",
        "import io\n",
        "\n",
        "# Import Data dari CSV\n",
        "# Data frame kotor yang tidak diubah (untuk karakteristik data & menunjukkan kekotoran di data cleansing)\n",
        "df_uncleaned = pd.read_csv(io.BytesIO(upload_uncleaned['qs-world-university-rankings-2017-to-2022-V2.csv']))\n",
        "# Data frame kotor yang akan diubah program menjadi bersih (untuk demonstrasi pembersihan)\n",
        "df_chg_uncleaned = pd.read_csv(io.BytesIO(upload_uncleaned['qs-world-university-rankings-2017-to-2022-V2.csv']))\n",
        "# Data frame data bersih\n",
        "df = pd.read_csv(io.BytesIO(upload_cleaned['qs_ranking_400_cleaned.csv']))"
      ]
    },
    {
      "cell_type": "markdown",
      "source": [
        "- Data QS Ranking Universitas Dunia dari tahun 2017 sampai tahun 2022 kami ambil dari dataset kaggle pada [link berikut](https://www.kaggle.com/datasets/padhmam/qs-world-university-rankings-2017-2022).\n",
        "\n",
        "- Dari sumber, format data ini adalah comma seperated value (CSV). Ukuran file dari data ini sebesar 1,84 MB.\n",
        "- Data kotor memiliki dimensi sebesar 6482 baris, 15 kolom, dan jumlah elemen data sebesar 97230.\n",
        "- Data bersih memiliki dimensi sebesar 2390 baris, 13 kolom, dan jumlah elemen data sebesar 31070."
      ],
      "metadata": {
        "id": "PIbVVmdCIxxC"
      }
    },
    {
      "cell_type": "code",
      "source": [
        "# Cara Mengetahui\n",
        "# Data kotor\n",
        "print(f\"Jumlah baris data kotor: {len(df_uncleaned)}\")\n",
        "print(f\"Jumlah kolom data kotor: {len(df_uncleaned.columns)}\")\n",
        "print(f\"Jumlah elemen data kotor: {df_uncleaned.size}\")\n",
        "\n",
        "# Data bersih\n",
        "print(f\"Jumlah baris data bersih: {len(df)}\")\n",
        "print(f\"Jumlah kolom data bersih: {len(df.columns)}\")\n",
        "print(f\"Jumlah elemen data bersih: {df.size}\")"
      ],
      "metadata": {
        "colab": {
          "base_uri": "https://localhost:8080/"
        },
        "id": "jd9qcW8XIJ-8",
        "outputId": "7538a368-6596-4db2-f245-c9b6d09ff802"
      },
      "execution_count": null,
      "outputs": [
        {
          "output_type": "stream",
          "name": "stdout",
          "text": [
            "Jumlah baris data kotor: 6482\n",
            "Jumlah kolom data kotor: 15\n",
            "Jumlah elemen data kotor: 97230\n",
            "Jumlah baris data bersih: 2390\n",
            "Jumlah kolom data bersih: 13\n",
            "Jumlah elemen data bersih: 31070\n"
          ]
        }
      ]
    },
    {
      "cell_type": "markdown",
      "metadata": {
        "id": "1-ZMwo7cRChU"
      },
      "source": [
        "\n",
        "\n",
        "---\n",
        "\n",
        "\n",
        "# **Deskripsi Karakteristik Data**\n",
        "\n",
        "Pada data ini terdapat 15 atribut yaitu `university`, `year`, `rank_display`, `score`, `link`, `country`, `city`, `region`, `logo`, `type`, `research_output`, `student_faculty_ratio`, `international_students`, `size`, dan `faculty_count`.\n"
      ]
    },
    {
      "cell_type": "markdown",
      "source": [
        "## **1. Atribut `university`**\n",
        "  - Atribut ini berisi nama dari universitas di ranking dunia\n",
        "  - Jenis atribut ini adalah kategorical yang nominal\n",
        "  - Atribut ini bernilai nama universitas seperti \"Massachusetts Institute of Technology (MIT) \", \"Stanford University\", dll"
      ],
      "metadata": {
        "id": "jHJbpjxLOTO9"
      }
    },
    {
      "cell_type": "code",
      "source": [
        "# Nilai dari atribut\n",
        "print(f\"Contoh nilai atribut: {df_uncleaned['university'].unique()}\")"
      ],
      "metadata": {
        "colab": {
          "base_uri": "https://localhost:8080/"
        },
        "id": "DfPL_lJyLMP2",
        "outputId": "e2badc02-d41b-4893-d0ff-45d8deea548f"
      },
      "execution_count": null,
      "outputs": [
        {
          "output_type": "stream",
          "name": "stdout",
          "text": [
            "Contoh nilai atribut: ['Massachusetts Institute of Technology (MIT) ' 'Stanford University'\n",
            " 'Harvard University' ... 'Université de Tunis'\n",
            " 'Université de Tunis El Manar' 'Zagazig University']\n"
          ]
        }
      ]
    },
    {
      "cell_type": "markdown",
      "source": [
        "  - Persentase data kosong adalah 0%"
      ],
      "metadata": {
        "id": "1uQnYeR2xAsk"
      }
    },
    {
      "cell_type": "code",
      "source": [
        "# Data kosong\n",
        "print(f\"Persentase data kosong: {df_uncleaned['university'].isnull().sum()*100/len(df_uncleaned['university']):.2f}%\")"
      ],
      "metadata": {
        "colab": {
          "base_uri": "https://localhost:8080/"
        },
        "id": "ZHB7TLQ3xEyi",
        "outputId": "b5d576bb-2b19-44d4-ba61-fa3f823b6fa5"
      },
      "execution_count": null,
      "outputs": [
        {
          "output_type": "stream",
          "name": "stdout",
          "text": [
            "Persentase data kosong: 0.00%\n"
          ]
        }
      ]
    },
    {
      "cell_type": "markdown",
      "source": [
        "## **2. Atribut `year`**\n",
        "  - Atribut ini berisi tahun data tersebut dicatat\n",
        "  - Jenis atribut ini adalah numerical yang diskrit\n",
        "  - Atribut ini bernilai 2017, 2018, 2019, 2020, 2021, dan 2022."
      ],
      "metadata": {
        "id": "r-b5F3uJMGbC"
      }
    },
    {
      "cell_type": "code",
      "source": [
        "# Nilai dari atribut\n",
        "print(f\"Contoh nilai atribut: {df_uncleaned['year'].unique()}\")"
      ],
      "metadata": {
        "colab": {
          "base_uri": "https://localhost:8080/"
        },
        "id": "c74H5fFJLMjs",
        "outputId": "d1887a65-7151-455d-cda4-9dfa1362737c"
      },
      "execution_count": null,
      "outputs": [
        {
          "output_type": "stream",
          "name": "stdout",
          "text": [
            "Contoh nilai atribut: [2017 2018 2019 2020 2021 2022]\n"
          ]
        }
      ]
    },
    {
      "cell_type": "markdown",
      "source": [
        "  - Atribut ini memiliki range 5."
      ],
      "metadata": {
        "id": "zM0ip5GoxHWu"
      }
    },
    {
      "cell_type": "code",
      "source": [
        "# Range\n",
        "print(f\"Range: {df_uncleaned['year'].max() - df_uncleaned['year'].min()}\")"
      ],
      "metadata": {
        "colab": {
          "base_uri": "https://localhost:8080/"
        },
        "id": "A-YIn5kOxHgF",
        "outputId": "920f4d81-bdb0-4121-d099-bef7b7933e4c"
      },
      "execution_count": null,
      "outputs": [
        {
          "output_type": "stream",
          "name": "stdout",
          "text": [
            "Range: 5\n"
          ]
        }
      ]
    },
    {
      "cell_type": "markdown",
      "source": [
        "  - Persentase data kosong adalah 0.00%"
      ],
      "metadata": {
        "id": "r4ChoscwxPit"
      }
    },
    {
      "cell_type": "code",
      "source": [
        "# Data kosong\n",
        "print(f\"Persentase data kosong: {df_uncleaned['year'].isnull().sum()*100/len(df_uncleaned['year']):.2f}%\")"
      ],
      "metadata": {
        "colab": {
          "base_uri": "https://localhost:8080/"
        },
        "id": "_CwSG4TCxQeL",
        "outputId": "5bd32d46-9241-47cd-c327-e8c8b665481f"
      },
      "execution_count": null,
      "outputs": [
        {
          "output_type": "stream",
          "name": "stdout",
          "text": [
            "Persentase data kosong: 0.00%\n"
          ]
        }
      ]
    },
    {
      "cell_type": "markdown",
      "source": [
        "## **3. Atribut `rank_display`**\n",
        "  - Atribut ini berisi ranking dari universitas\n",
        "  - Jenis atribut ini adalah numerical yang diskrit\n",
        "  - Atribut ini bernilai 1, 2,..., 1201."
      ],
      "metadata": {
        "id": "zV44X7pmLMr0"
      }
    },
    {
      "cell_type": "code",
      "source": [
        "# Nilai dari atribut\n",
        "print(f\"Contoh nilai atribut: {df_uncleaned['rank_display'].unique()}\")"
      ],
      "metadata": {
        "colab": {
          "base_uri": "https://localhost:8080/"
        },
        "id": "lKxJG-zMLMxx",
        "outputId": "1dac82cc-3f95-44af-b8f8-5b9f2e697386"
      },
      "execution_count": null,
      "outputs": [
        {
          "output_type": "stream",
          "name": "stdout",
          "text": [
            "Contoh nilai atribut: ['1' '2' '3' '4' '5' '6' '7' '8' '9' '10' '11' '12' '13' '14' '15' '16'\n",
            " '17' '18' '19' '20' '21' '22' '23' '24' '26' '27' '28' '29' '30' '31'\n",
            " '32' '33' '34' '35' '36' '37' '39' '40' '41' '42' '43' '44' '45' '46'\n",
            " '49' '51' '53' '55' '56' '57' '58' '59' '60' '61' '62' '63' '65' '66'\n",
            " '67' '68' '71' '72' '73' '74' '75' '77' '78' '79' '80' '81' '82' '83'\n",
            " '84' '85' '87' '88' '89' '90' '91' '92' '93' '94' '95' '97' '98' '102'\n",
            " '104' '106' '108' '109' '110' '111' '112' '113' '115' '117' '118' '119'\n",
            " '120' '121' '123' '125' '126' '127' '128' '129' '130' '131' '133' '135'\n",
            " '136' '137' '138' '139' '140' '141' '144' '145' '146' '147' '148' '149'\n",
            " '151' '152' '154' '155' '156' '157' '158' '159' '160' '163' '164' '167'\n",
            " '168' '169' '170' '171' '172' '173' '174' '175' '176' '177' '181' '182'\n",
            " '183' '185' '187' '189' '190' '191' '193' '195' '196' '198' '199' '200'\n",
            " '201' '202' '203' '206' '208' '209' '210' '212' '213' '214' '216' '218'\n",
            " '219' '220' '221' '222' '223' '225' '226' '227' '228' '231' '232' '233'\n",
            " '234' '235' '236' '237' '238' '239' '241' '243' '244' '245' '247' '249'\n",
            " '251' '252' '257' '258' '259' '260' '261' '262' '263' '264' '268' '269'\n",
            " '270' '271' '272' '275' '276' '277' '278' '280' '282' '283' '288' '291'\n",
            " '294' '296' '297' '299' '301' '302' '305' '306' '308' '310' '313' '314'\n",
            " '315' '318' '319' '320' '321' '323' '324' '325' '327' '329' '330' '335'\n",
            " '336' '337' '338' '340' '342' '343' '345' '347' '350' '352' '354' '355'\n",
            " '356' '358' '359' '361' '363' '365' '366' '369' '370' '372' '373' '374'\n",
            " '377' '380' '382' '384' '385' '386' '389' '390' '393' '395' '399' '400'\n",
            " '401-410' '411-420' '421-430' '431-440' '441-450' '451-460' '461-470'\n",
            " '471-480' '481-490' '491-500' '501-550' '551-600' '601-650' '651-700'\n",
            " '701' nan '25' '38' '47' '50' '52' '54' '64' '69' '70' '76' '86' '100'\n",
            " '101' '105' '107' '114' '116' '122' '124' '132' '134' '142' '153' '161'\n",
            " '178' '179' '186' '188' '192' '204' '205' '207' '215' '217' '224' '229'\n",
            " '230' '240' '242' '250' '253' '254' '256' '267' '274' '279' '281' '286'\n",
            " '287' '289' '292' '293' '303' '304' '307' '311' '312' '316' '322' '331'\n",
            " '334' '339' '341' '344' '346' '349' '351' '357' '360' '364' '367' '378'\n",
            " '379' '381' '388' '391' '394' '397' '398' '701-750' '751-800' '801-1000'\n",
            " '1001' '48' '96' '99' '162' '165' '166' '180' '184' '197' '211' '246'\n",
            " '248' '255' '285' '295' '298' '309' '317' '326' '328' '332' '348' '362'\n",
            " '375' '376' '387' '396' '402' '404' '405' '407' '411' '412' '415' '417'\n",
            " '419' '420' '422' '426' '429' '431' '432' '435' '439' '442' '443' '446'\n",
            " '448' '450' '453' '456' '460' '461' '464' '470' '472' '475' '476' '478'\n",
            " '480' '481' '487' '488' '489' '491' '494' '495' '498' '500' '501-510'\n",
            " '511-520' '521-530' '531-540' '541-550' '551-560' '561-570' '571-580'\n",
            " '581-590' '591-600' '103' '150' '194' '265' '266' '284' '300' '353' '368'\n",
            " '371' '383' '392' '406' '410' '416' '418' '421' '424' '427' '436' '438'\n",
            " '451' '454' '458' '462' '468' '474' '477' '482' '484' '143' '273' '333'\n",
            " '401' '403' '408' '409' '414' '423' '425' '428' '437' '449' '465' '483'\n",
            " '485' '490' '492' '493' '499' '290' '434' '440' '444' '445' '447' '455'\n",
            " '459' '469' '471' '1001-1200' '1201']\n"
          ]
        }
      ]
    },
    {
      "cell_type": "markdown",
      "source": [
        "  - Atribut ini memiliki range 1200."
      ],
      "metadata": {
        "id": "QcJbm8U1xYgs"
      }
    },
    {
      "cell_type": "code",
      "source": [
        "# Range\n",
        "cek_range_rank = df_uncleaned.loc[(df_uncleaned['rank_display'].isna() == False) & (df_uncleaned['rank_display'].str.isnumeric() == True)]['rank_display'].apply(lambda x: int(x))\n",
        "print(f\"Range data: {cek_range_rank.max() - cek_range_rank.min()}\")"
      ],
      "metadata": {
        "colab": {
          "base_uri": "https://localhost:8080/"
        },
        "id": "rKOwO4PgxYo4",
        "outputId": "a6f0f4ba-c302-4876-fdf2-dc31964e3a81"
      },
      "execution_count": null,
      "outputs": [
        {
          "output_type": "stream",
          "name": "stdout",
          "text": [
            "Range data: 1200\n"
          ]
        }
      ]
    },
    {
      "cell_type": "markdown",
      "source": [
        "  - Persentase data kosong adalah 1.05%"
      ],
      "metadata": {
        "id": "5_cIZa5kxYxl"
      }
    },
    {
      "cell_type": "code",
      "source": [
        "# Data kosong\n",
        "print(f\"Persentase data kosong: {df_uncleaned['rank_display'].isnull().sum()*100/len(df_uncleaned['rank_display']):.2f}%\")"
      ],
      "metadata": {
        "colab": {
          "base_uri": "https://localhost:8080/"
        },
        "id": "Pde1xo0xxZAW",
        "outputId": "2b54e3d5-4a69-43ef-d2dc-25f6737c2558"
      },
      "execution_count": null,
      "outputs": [
        {
          "output_type": "stream",
          "name": "stdout",
          "text": [
            "Persentase data kosong: 1.05%\n"
          ]
        }
      ]
    },
    {
      "cell_type": "markdown",
      "source": [
        "## **4. Atribut `score`**\n",
        "  - Atribut ini berisi nilai/penilaian universitas\n",
        "  - Jenis atribut ini adalah numerical yang kontinu\n",
        "  - Atribut ini memiliki range 76.5"
      ],
      "metadata": {
        "id": "ex-2_U2OLM5J"
      }
    },
    {
      "cell_type": "code",
      "source": [
        "# Nilai dari atribut\n",
        "print(f\"Contoh nilai atribut: {df_uncleaned['score'].unique()}\")\n",
        "\n",
        "# Range\n",
        "cek_range_score = df_uncleaned['score']\n",
        "print(f\"Range data: {df_uncleaned['score'].max() - df_uncleaned['score'].min()}\")"
      ],
      "metadata": {
        "colab": {
          "base_uri": "https://localhost:8080/"
        },
        "id": "embzascxLM-Y",
        "outputId": "92c09810-4983-474d-f0ef-e31e77bd7138"
      },
      "execution_count": null,
      "outputs": [
        {
          "output_type": "stream",
          "name": "stdout",
          "text": [
            "Contoh nilai atribut: [100.   98.7  98.3  97.2  96.9  96.8  95.6  94.2  94.1  93.   92.8  91.5\n",
            "  91.4  91.1  90.9  90.1  89.3  89.   88.9  88.6  87.7  87.3  86.4  86.\n",
            "  85.7  85.4  85.2  84.8  84.1  84.   83.8  79.9  82.6  82.1  81.8  81.7\n",
            "  81.3  80.6  79.6  79.5  79.4  78.1  78.   77.9  77.8  77.6  75.7  69.9\n",
            "  75.4  74.9  74.3  74.2  73.9  72.4  72.2  72.1  71.7  71.6  71.4  70.7\n",
            "  70.2  69.8  69.7  69.1  68.8  68.7  68.2  68.1  67.9  67.8  67.3  67.2\n",
            "  67.   66.9  65.8  65.6  65.4  65.2  65.   64.7  64.5  64.2  64.   63.6\n",
            "  63.1  62.8  62.7  62.4  61.5  62.2  62.1  61.8  61.6  61.4  60.5  60.\n",
            "  59.6  59.5  59.4  59.1  59.   58.9  58.7  58.6  58.5  58.4  58.3  57.9\n",
            "  57.8  57.6  57.1  56.8  56.7  56.4  56.3  56.1  55.7  57.5  55.6  55.5\n",
            "  55.1  55.   54.7  54.2  54.1  53.9  53.8  53.4  53.3  53.2  53.1  53.\n",
            "  52.7  52.6  52.2  52.1  52.3  51.9  51.8  51.3  51.2  50.6  50.5  50.3\n",
            "  38.2  50.   49.7  49.6  49.3  48.9  48.8  48.6  48.4  48.3  48.2  48.\n",
            "  47.8  47.5  47.2  47.1  46.8  46.7  46.5  46.4  46.3  46.1  46.   45.8\n",
            "  45.7  45.6  45.5  40.   45.4  45.1  44.7  44.6  38.1  37.9  44.2  44.\n",
            "  43.8  43.6  43.4  43.3  43.   42.9  42.8  42.7  42.6  42.5  42.3  42.2\n",
            "  42.1  42.   41.7  41.6  41.3  41.2  41.   40.8  40.6  40.4  40.1  39.8\n",
            "  39.6  39.5  34.7  39.3  39.2  34.6  39.1  38.9  38.8  38.7  38.5  38.\n",
            "  37.8  37.7  37.6  37.4  37.3  37.2  37.1  37.   36.9  36.8  36.7  36.4\n",
            "  36.3  36.2  34.4  36.   35.9  35.8  35.7  35.6  30.   35.4  35.3  35.2\n",
            "  35.1  35.   34.8  34.5  34.3  34.2  34.1  34.   33.9  33.8  33.6  31.4\n",
            "  33.4  31.   33.2  33.   32.9  32.7  32.6  32.4  32.3  32.2  32.1  32.\n",
            "  31.9  31.8  31.7  31.5   nan  31.3  31.2  31.1  30.9  30.8  30.7  30.6\n",
            "  30.5  30.4  30.3  36.5  26.4  84.7  69.6  98.4  97.7  95.3  94.6  93.7\n",
            "  93.5  93.3  92.2  91.2  91.   90.7  90.5  90.4  89.8  88.7  87.1  87.\n",
            "  86.9  85.6  85.5  84.9  84.3  83.9  83.6  83.   81.5  80.8  80.4  78.9\n",
            "  78.8  78.6  78.4  77.3  76.5  76.1  75.8  74.8  74.4  73.1  72.9  72.5\n",
            "  72.   70.8  70.6  70.4  70.3  70.1  69.4  69.2  69.   68.5  66.8  66.1\n",
            "  65.9  65.7  65.5  65.3  64.9  64.6  63.9  63.2  62.3  61.9  61.3  60.8\n",
            "  60.7  60.4  59.3  59.2  58.2  58.1  57.7  57.2  56.9  56.   55.8  55.2\n",
            "  54.5  54.4  54.3  53.7  53.6  52.9  52.8  52.4  51.5  50.9  50.8  50.7\n",
            "  50.1  49.8  49.5  49.2  49.1  49.   48.5  48.1  47.9  47.4  47.   46.9\n",
            "  46.6  45.9  44.5  44.3  43.7  43.2  43.1  41.8  41.5  41.1  40.9  40.5\n",
            "  40.3  40.2  39.4  38.6  38.4  38.3  37.5  36.6  36.1  34.9  33.5  33.3\n",
            "  33.1  32.8  32.5  31.6  98.6  98.5  93.2  92.9  92.   91.3  89.6  88.5\n",
            "  87.2  86.5  85.9  85.8  85.3  84.4  83.2  82.9  82.5  81.9  81.2  80.5\n",
            "  80.2  80.1  78.7  78.3  77.7  77.   76.6  75.6  75.1  73.3  73.2  71.1\n",
            "  71.   70.   68.   67.7  67.5  67.4  66.3  66.2  64.8  64.3  63.5  63.4\n",
            "  63.   62.6  62.   59.8  57.3  56.6  56.2  55.9  55.4  51.1  50.4  49.9\n",
            "  49.4  48.7  47.6  46.2  45.2  45.   44.9  44.8  44.4  44.1  43.9  43.5\n",
            "  41.4  40.7  39.   33.7  30.2  30.1  29.9  29.7  29.6  29.4  29.3  29.2\n",
            "  29.1  29.   28.8  28.7  28.6  28.5  28.3  28.2  28.1  28.   27.9  27.7\n",
            "  27.6  27.5  27.4  27.3  27.2  27.1  27.   26.9  26.8  26.7  26.5  26.2\n",
            "  26.1  26.   25.9  25.8  25.7  25.6  25.5  25.4  25.3  25.2  25.1  25.\n",
            "  24.8  24.7  24.6  24.5  24.4  24.2  24.1  24.   23.9  23.8  23.7  23.6\n",
            "  23.5  97.4  95.9  95.   94.8  91.8  87.4  86.2  82.7  77.1  75.9  74.5\n",
            "  74.1  73.6  73.4  72.3  71.8  71.5  70.9  70.5  68.6  68.4  67.1  66.5\n",
            "  66.   64.1  63.8  63.7  62.9  61.7  60.6  59.9  58.8  57.4  54.   52.\n",
            "  51.   47.7  47.3  39.9  39.7  29.8  28.9  28.4  27.8  26.3  24.9  24.3\n",
            "  97.9  97.   96.7  94.3  93.6  93.1  89.9  89.2  88.   87.6  84.6  83.7\n",
            "  83.5  80.   79.2  79.   76.4  71.9  71.2  68.9  66.7  63.3  62.5  61.2\n",
            "  61.   60.3  60.2  55.3  54.9  54.8  52.5  51.7  51.4  50.2  45.3  41.9\n",
            "  35.5  29.5  26.6  99.5  98.   97.3  95.4  94.5  93.9  90.8  90.2  88.8\n",
            "  88.3  86.3  82.8  82.3  82.2  82.   81.4  80.3  79.7  79.1  77.4  75.2\n",
            "  74.6  73.8  73.5  71.3  60.1  58.   57.   54.6  42.4]\n",
            "Range data: 76.5\n"
          ]
        }
      ]
    },
    {
      "cell_type": "markdown",
      "source": [
        "  - Persentase data kosong adalah 56.49%"
      ],
      "metadata": {
        "id": "_TEwlZuLxn_9"
      }
    },
    {
      "cell_type": "code",
      "source": [
        "# Data kosong\n",
        "print(f\"Persentase data kosong: {df_uncleaned['score'].isnull().sum()*100/len(df_uncleaned['score']):.2f}%\")"
      ],
      "metadata": {
        "colab": {
          "base_uri": "https://localhost:8080/"
        },
        "id": "7LkfWonXxoMQ",
        "outputId": "a6e51ab9-c88d-4159-aad7-c44c976abc88"
      },
      "execution_count": null,
      "outputs": [
        {
          "output_type": "stream",
          "name": "stdout",
          "text": [
            "Persentase data kosong: 56.49%\n"
          ]
        }
      ]
    },
    {
      "cell_type": "markdown",
      "source": [
        "## **5. Atribut `link`**\n",
        "  - Atribut ini berisi link menuju universitas tersebut pada website [www.topuniversities.com](https://topuniversities.com)\n",
        "  - Jenis atribut ini adalah kategotical yang nominal\n",
        "  - Atribut ini memiliki nilai seperti \"https://www.topuniversities.com/universities/massachusetts-institute-technology-mit\", dll\n",
        "\n",
        "  "
      ],
      "metadata": {
        "id": "mOJHQm34LNHT"
      }
    },
    {
      "cell_type": "code",
      "source": [
        "# Nilai dari atribut\n",
        "print(f\"Contoh nilai atribut: {df_uncleaned['link'].unique()}\")"
      ],
      "metadata": {
        "colab": {
          "base_uri": "https://localhost:8080/"
        },
        "id": "d4cTt_BcLNM1",
        "outputId": "d2c17612-a18c-41eb-9eba-20ac5f71e8d3"
      },
      "execution_count": null,
      "outputs": [
        {
          "output_type": "stream",
          "name": "stdout",
          "text": [
            "Contoh nilai atribut: ['https://www.topuniversities.com/universities/massachusetts-institute-technology-mit'\n",
            " 'https://www.topuniversities.com/universities/stanford-university'\n",
            " 'https://www.topuniversities.com/universities/harvard-university' ...\n",
            " 'https://www.topuniversities.com/universities/universite-de-tunis'\n",
            " 'https://www.topuniversities.com/universities/universite-de-tunis-el-manar'\n",
            " 'https://www.topuniversities.com/universities/zagazig-university']\n"
          ]
        }
      ]
    },
    {
      "cell_type": "markdown",
      "source": [
        "  - Persentase data kosong adalah 0.00%"
      ],
      "metadata": {
        "id": "nl1keefUxuqH"
      }
    },
    {
      "cell_type": "code",
      "source": [
        "# Data kosong\n",
        "print(f\"Persentase data kosong: {df_uncleaned['link'].isnull().sum()*100/len(df_uncleaned['link']):.2f}%\")"
      ],
      "metadata": {
        "colab": {
          "base_uri": "https://localhost:8080/"
        },
        "id": "7ZE-De8oxuyV",
        "outputId": "01c07360-6e5b-4a63-9ac9-4f3ca0f3969d"
      },
      "execution_count": null,
      "outputs": [
        {
          "output_type": "stream",
          "name": "stdout",
          "text": [
            "Persentase data kosong: 0.00%\n"
          ]
        }
      ]
    },
    {
      "cell_type": "markdown",
      "source": [
        "## **6. Atribut `country`**\n",
        "  - Atribut ini berisi asal negara dari universitas\n",
        "  - Jenis atribut ini adalah kategorical yang nominal\n",
        "  - Atribut ini memiliki nilai seperti \"United States\", \"United Kingdom\", \"Switzherland\", \"Singapore\", dll"
      ],
      "metadata": {
        "id": "XllrOw4GLNUx"
      }
    },
    {
      "cell_type": "code",
      "source": [
        "# Nilai dari atribut\n",
        "print(f\"Contoh nilai atribut: {df_uncleaned['country'].unique()}\")"
      ],
      "metadata": {
        "colab": {
          "base_uri": "https://localhost:8080/"
        },
        "id": "87TDhLOCLNaM",
        "outputId": "4e091eb2-1dcf-4691-ae66-769116e116ed"
      },
      "execution_count": null,
      "outputs": [
        {
          "output_type": "stream",
          "name": "stdout",
          "text": [
            "Contoh nilai atribut: ['United States' 'United Kingdom' 'Switzerland' 'Singapore' 'Australia'\n",
            " 'China (Mainland)' 'Hong Kong SAR' 'Canada' 'France' 'Japan'\n",
            " 'South Korea' 'Netherlands' 'Germany' 'Taiwan' 'Denmark' 'Sweden'\n",
            " 'Belgium' 'New Zealand' 'Argentina' 'Finland' 'Ireland' 'Russia' 'Norway'\n",
            " 'Brazil' 'Mexico' 'Malaysia' 'Chile' 'Israel' 'India' 'Austria' 'Spain'\n",
            " 'Italy' 'Saudi Arabia' 'South Africa' 'Lebanon' 'Kazakhstan' 'Thailand'\n",
            " 'Colombia' 'Czech Republic' 'Portugal' 'Indonesia' 'Estonia' 'Belarus'\n",
            " 'Egypt' 'Poland' 'Philippines' 'Ukraine' 'Qatar' 'Greece'\n",
            " 'United Arab Emirates' 'Turkey' 'Iran, Islamic Republic of' 'Oman'\n",
            " 'Bahrain' 'Costa Rica' 'Peru' 'Lithuania' 'Pakistan' 'Macau SAR'\n",
            " 'Hungary' 'Jordan' 'Venezuela' 'Uruguay' 'Iraq' 'Slovenia' 'Slovakia'\n",
            " 'Bulgaria' 'Latvia' 'Croatia' 'Romania' 'Azerbaijan' 'Kuwait' 'Uganda'\n",
            " 'Ecuador' 'Cuba' 'Puerto Rico' 'Serbia' 'Sri Lanka' 'Bangladesh' 'Ghana'\n",
            " 'Kenya' 'Brunei' 'Palestinian Territory, Occupied' 'Morocco'\n",
            " 'Bosnia and Herzegovina' 'Vietnam' 'Panama' 'Paraguay' 'Cyprus' 'Georgia'\n",
            " 'Malta' 'Syrian Arab Republic' 'Bolivia' 'Tunisia' 'Armenia' 'Sudan'\n",
            " 'Honduras']\n"
          ]
        }
      ]
    },
    {
      "cell_type": "markdown",
      "source": [
        "  - Persentase data kosong adalah 0.0%"
      ],
      "metadata": {
        "id": "mkccpptLx4bG"
      }
    },
    {
      "cell_type": "code",
      "source": [
        "# Data kosong\n",
        "print(f\"Persentase data kosong: {df_uncleaned['country'].isnull().sum()*100/len(df_uncleaned['country']):.2f}%\")"
      ],
      "metadata": {
        "colab": {
          "base_uri": "https://localhost:8080/"
        },
        "id": "SOWRc5iTx4i8",
        "outputId": "a4190c30-bb3f-4e7a-923f-8a83e8d68bdd"
      },
      "execution_count": null,
      "outputs": [
        {
          "output_type": "stream",
          "name": "stdout",
          "text": [
            "Persentase data kosong: 0.00%\n"
          ]
        }
      ]
    },
    {
      "cell_type": "markdown",
      "source": [
        "## **7. Atribut `city`**\n",
        "  - Atribut ini berisi asal kota dari universitas\n",
        "  - Jenis atribut ini adalah kategorical yang nominal\n",
        "  - Atribut ini memiliki nilai seperti \"Cambridge\", \"Stanford\", \"Pasadena\", \"Oxford\", \"London\", \"Chicago\", dll"
      ],
      "metadata": {
        "id": "jkGVIJjiLNjW"
      }
    },
    {
      "cell_type": "code",
      "source": [
        "# Nilai dari atribut\n",
        "print(f\"Contoh nilai atribut: {df_uncleaned['city'].unique()}\")"
      ],
      "metadata": {
        "colab": {
          "base_uri": "https://localhost:8080/"
        },
        "id": "kXMymizSLNsC",
        "outputId": "9bddb6e9-2dba-4b8e-ef46-7817efd78019"
      },
      "execution_count": null,
      "outputs": [
        {
          "output_type": "stream",
          "name": "stdout",
          "text": [
            "Contoh nilai atribut: ['Cambridge' 'Stanford' 'Pasadena' 'Oxford' 'London' 'Zürich' 'Chicago'\n",
            " 'Princeton' 'Singapore' 'Lausanne' 'New Haven' 'Ithaca' 'Baltimore'\n",
            " 'Philadelphia' 'Edinburgh' 'New York City' 'Canberra' 'Ann Arbor'\n",
            " 'Beijing' 'Durham' 'Evanston' 'Hong Kong' 'Berkeley' 'Manchester'\n",
            " 'Montreal' 'Los Angeles' 'Toronto' 'Paris' 'Tokyo' 'Seoul' 'Kyoto'\n",
            " 'San Diego' 'Bristol' 'Parkville' 'Shanghai' 'Vancouver' 'Sydney'\n",
            " 'Daejeon' 'Providence' 'Brisbane' 'Coventry' 'Madison' 'Palaiseau'\n",
            " 'Amsterdam' 'Pittsburgh' 'Seattle' 'Munich' 'Delft' 'Osaka City'\n",
            " 'Glasgow' 'Melbourne' 'Champaign' 'Austin' 'Taipei City' 'Copenhagen'\n",
            " 'Atlanta' 'Heidelberg' 'Lund' 'Sendai City' 'Nottingham' 'St. Andrews'\n",
            " 'Chapel Hill' 'Leuven' 'Auckland' 'Birmingham' 'Pohang ' 'Sheffield'\n",
            " 'Buenos Aires' 'Davis' 'Southampton' 'Columbus' 'Boston' 'Houston'\n",
            " 'Helsinki' 'West Lafayette' 'Leeds' 'Edmonton' 'University Park' 'Geneva'\n",
            " 'Stockholm' 'Uppsala' 'Dublin' 'Karlsruhe' 'Leiden' 'Perth' 'Utrecht'\n",
            " 'Hefei' 'Suwon' 'St. Louis' 'Moscow' 'Kongens Lyngby' 'Hangzhou' 'Oslo'\n",
            " 'Groningen' 'Nanjing' 'Nagoya' nan 'Santa Barbara' 'Wageningen'\n",
            " 'São Paulo' 'Berlin' 'Eindhoven' 'Adelaide' 'York' 'Mexico City'\n",
            " 'Lancaster' 'Sapporo' 'Ghent' 'College Park' 'Kuala Lumpur' 'Espoo'\n",
            " 'Fukuoka City' 'Minneapolis' 'Gothenburg' 'Cardiff' 'Basel' 'Aberdeen'\n",
            " 'Rotterdam' 'Aachen' 'Santiago' 'Jerusalem' 'Hamilton' 'Hsinchu City'\n",
            " 'Waterloo' 'Bangalore' 'Louvain-la-Neuve' 'Vienna' 'Irvine' 'Liverpool'\n",
            " 'Hanover' 'Bath' 'Barcelona' 'Galveston' 'East Lansing'\n",
            " 'Freiburg im Breisgau' 'Exeter' 'Saint-Aubin' 'Tübingen'\n",
            " 'Newcastle upon Tyne' 'Dunedin' 'Boulder' 'Charlottesville' 'Maastricht'\n",
            " 'Reading' 'Göttingen' 'Lyon' 'Bergen' 'Enschede' 'Bern' 'Brussels'\n",
            " 'Milan' 'Gainesville' 'Rochester' 'New Delhi' 'Brighton' 'Dhahran'\n",
            " 'Nijmegen' 'Campinas' 'Cape Town' 'Haymarket' 'Calgary' 'Cleveland'\n",
            " 'Nashville' 'Notre Dame' 'Grenoble' 'Monterrey' 'Bologna' 'Antwerp'\n",
            " 'Madrid' 'Dresden' 'Tel Aviv' 'Haifa' 'Christchurch' 'Washington D.C.'\n",
            " 'Wollongong' 'Mumbai' 'Phoenix' 'Rome' 'Kingston' 'Tsukuba City'\n",
            " 'Burnaby' 'Riyadh' 'Kelburn, Wellington' 'Beirut ' 'Bonn' 'Hamburg'\n",
            " 'Tucson' 'Turku' 'Egham' 'Almaty' 'Loughborough' 'Medford' 'Leicester'\n",
            " 'Tainan City' 'Dundee' 'Callaghan' 'Pamplona' 'Darmstadt' 'Chennai'\n",
            " 'Galway' 'Amherst' 'Bangkok' 'Norwich' 'Miami' 'Saint Petersburg'\n",
            " 'Trondheim' 'Strasbourg' 'Guildford' 'Stuttgart' 'Frankfurt' 'Cachan'\n",
            " 'Bogotá' 'Seri Kembangan' 'Riverside' 'Erlangen' 'Wuhan' 'Raleigh'\n",
            " 'Harbin' 'Linköping' 'Nakhon Pathom' 'Cork' 'Jeddah' 'Halifax' 'Magill'\n",
            " 'Skudai' 'St. Gallen' 'Bloomington' 'Ottawa' 'Novosibirsk ' 'Münster'\n",
            " 'Umeå' 'Santa Cruz' 'Guangzhou' 'Higashihiroshima City' 'Innsbruck'\n",
            " 'Newton' 'New Brunswick' 'Prague' 'Bangi' 'Kanpur' 'Turin' 'Pilar' 'Troy'\n",
            " 'Kharagpur' 'Tianjin' 'Arlon' \"Xi'an\" 'Tampere' \"Be'er Sheva\"\n",
            " 'Rio de Janeiro' 'Porto' 'Hamilton ' 'Depok' 'Victoria' 'Montpellier'\n",
            " 'Lisbon ' 'Gelugor' 'Tilburg' 'Colchester' 'Nathan' 'Gwangju' 'Padua'\n",
            " 'Jyväskylä' 'Palmerston North' 'Townsville' 'Buffalo' 'Lincoln'\n",
            " 'Honolulu' 'Nur-Sultan' 'Cologne' 'Tartu' 'Ulm' 'Dolgoprudny' 'Konstanz'\n",
            " 'Minsk' 'Geelong' 'Johannesburg' 'Blacksburg' 'Ashburn' 'Jena' 'Cairo'\n",
            " 'Warsaw' 'Lisbon' 'Kobe City' 'Hobart' 'Québec' 'Lawrence' 'Quezon City'\n",
            " 'Aalborg' 'Denver' 'Paris ' 'Tomsk' 'Tromsø' 'Richardson' 'Kuopio'\n",
            " 'Kharkiv' 'Stirling' 'Fort Collins' 'Stony Brook' 'Swansea' 'Odense'\n",
            " 'Iowa City' 'Doha' 'Stellenbosch' 'Pullman' 'Kaohsiung City' 'Athens'\n",
            " 'Roorkee' 'Bandung' 'Waltham' 'Mainz' 'Abu Dhabi' 'Winston-Salem'\n",
            " 'Marseille' 'Ankara' 'Taoyuan City' 'St. Petersburg' 'Al Ain' 'Mannheim'\n",
            " 'Newark' 'Oulu' 'Salt Lake City' 'Würzburg' 'Ames' 'Kiel' 'Storrs' 'Pisa'\n",
            " 'Krakow' 'Tallahassee' 'Kyiv' 'Tehran' 'València' 'Bremen' 'Trento'\n",
            " 'Sharjah' 'Istanbul' 'Florence' 'Coimbra' 'Busan' 'Bochum' 'Xiamen'\n",
            " 'Corvallis' 'Muscat' 'Porto Alegre' 'Toulouse' 'Graz' 'Manama'\n",
            " 'Gold Coast' 'Albuquerque' 'Norman' 'Knoxville' 'Detroit' 'San Jose'\n",
            " 'Worcester' 'Lappeenranta ' 'Braunschweig' 'Saskatoon' 'Lima' 'Naples'\n",
            " 'Kunitachi City' 'Dalian' 'Guwahati' 'Bethlehem' 'Nankai' 'Huesca'\n",
            " 'Vilnius' 'Thessaloniki' 'Aberystwyth' 'Changchun' 'Gyeonggi' 'Beirut'\n",
            " 'Tampa' 'Yokohama City' 'Yogyakarta' 'Talence' 'Granada' 'Leipzig'\n",
            " 'Villeurbanne' 'SÃ£o Paulo' 'Jeonju' 'Kazan' 'Abha'\n",
            " 'Kingston upon Thames' 'Halle' 'Houghton' 'Rolla' 'Murdoch'\n",
            " 'Nagasaki City' 'Taichung City' 'Islamabad' 'Okayama City' 'Jinan'\n",
            " 'New Orleans' 'Makkah' 'Bayreuth' 'Saarbrücken' 'Regensburg' 'Guelph'\n",
            " 'Lexington' 'Limerick' 'Winnipeg' 'Mons' 'Szeged' 'La Plata' 'Chiang Mai'\n",
            " 'Belo Horizonte' 'Giza' 'Pretoria' 'Santiago de Compostela' 'Dubai'\n",
            " 'Casuarina' 'Chiba City' 'Williamsburg' 'Vladivostok' 'Incheon' 'Linz'\n",
            " 'Kagoshima City' 'Kanazawa' 'Keele' 'Kumamoto City' 'Lanzhou' 'Saratov'\n",
            " 'Marburg' 'Grahamstown' 'Chengdu' 'Rostov-on-Don' 'Syracuse' 'Dortmund'\n",
            " 'Pavia' 'Bradford' 'Bruce' 'Cincinnati' 'Hull' 'Amman' 'Columbia'\n",
            " 'Eugene' 'Ulsan' 'Burlington' 'Milperra' 'Medellin' 'Córdoba' 'Seville'\n",
            " 'Guayana City' 'Valparaíso' 'Brasília' 'Concepción' 'Bielefeld'\n",
            " 'Ramat Gan' 'Norman Gardens' 'Potsdam' 'Budapest' 'Chuncheon' 'Shymkent'\n",
            " 'Brno' 'New York' 'Tallinn' 'Alcalá de Henares' 'Montevideo' 'Duisburg'\n",
            " 'Düsseldorf' 'Rennes' 'Sherbrooke' 'Nice' 'Seri Iskandar' 'Tuscaloosa'\n",
            " 'Baghdad' 'Ljubljana' 'Portsmouth' 'Coleraine' 'Ekaterinburg' 'Provo'\n",
            " 'Bratislava' 'Fairfax' 'Gifu City' 'Maslak-Istanbul' 'Irbid' 'Giessen'\n",
            " 'Daegu' 'Byblos' 'Baton Rouge' 'Maynooth' \"St. John's\" 'Sofia' 'Hoboken'\n",
            " 'Huixquilucan' 'Caracas' 'Salamanca' 'Modena' 'Rostock' 'Albany'\n",
            " 'Kolkata' 'Heraklion' 'Debrecen' 'Pinetown' 'Riga' 'Patras' 'Plymouth'\n",
            " 'Windsor' 'Zagreb' 'Richmond' 'Gyeongsan' 'Rosario' 'Surabaya'\n",
            " 'Alexandria' 'Iași' 'Klagenfurt' 'Auburn' 'Cluj-Napoca' 'Baku' 'Varanasi'\n",
            " 'Waco' 'Puebla' 'Binghamton' 'Bogor' 'Thurgoona' 'Clemson' 'Adana'\n",
            " 'Manila' 'Semarang' 'Vinnytsia' 'Karaganda' 'Joondalup' 'New Taipei City'\n",
            " 'Maebashi' 'Ciudad de México' 'Manhattan' 'Kaunas' 'Kent' 'Khon Kaen'\n",
            " 'Hofuf' 'Kuwait City' 'Lahore' 'Nizhny Novgorod' 'Lodz' 'Kampala'\n",
            " 'Manchester ' 'Milwaukee' 'Toruń' 'Niigata City' 'Potchefstroom'\n",
            " 'Novosibirsk' 'Stillwater' 'Chandigarh' 'Salzburg ' 'Quito' 'Hat Yai'\n",
            " 'Saitama City' 'San Diego ' 'Matsumoto City' 'Northampton' 'Dallas'\n",
            " 'Sumy' 'Hiratsuka City' 'Kagurazaka' 'Valdivia'\n",
            " 'San Nicolás de los Garza' 'Toluca de Lerdo' 'Ciudad Real' 'Guadalajara'\n",
            " 'Havana' 'Cholula' 'Merida' 'San Pedro Garza García' 'Murcia' 'San Juan'\n",
            " 'Talca' 'Barranquilla' 'Cali' 'Bucaramanga' 'San José' 'Heredia'\n",
            " 'Mendoza' 'Mar del Plata' 'San Miguel de Tucumán' 'Bahia Blanca'\n",
            " 'San Martin' 'A Coruña' 'Londrina' 'Salvador' 'Florianópolis'\n",
            " 'Frederico Westphalen' 'Viçosa' 'Fortaleza' 'Curitiba' 'Recife' 'Venice'\n",
            " 'Catania' 'Ferrara' 'Genoa' 'Perugia' 'Siena' 'Trieste' 'Palermo'\n",
            " 'Surakarta' 'Caen' 'Cergy' 'Nancy' 'Nantes' 'Poitiers' 'Lille'\n",
            " 'Shah Alam' 'Sintok' 'Zallaq' 'Bari' 'Belgrade' 'Malang ' 'Brescia'\n",
            " 'Bucharest' 'Orlando' 'Preston' 'Horana' 'Dhaka' 'Legon' 'Hatfield'\n",
            " 'Huddersfield' 'Karachi' 'Kufa' 'Maribor' 'Missoula ' 'Nairobi'\n",
            " 'Armidale' 'Pécs' 'Pune' 'Salford' 'San Francisco' 'Toowoomba' 'Stockton'\n",
            " 'Tulsa' 'Wroclaw' 'Laramie' 'Logan' 'Verona' 'Vilnius ' 'Voronezh '\n",
            " 'Timișoara' 'Yamaguchi City' 'Fontainebleau' 'Rehovot' 'Frederiksberg'\n",
            " 'Bedford' 'Wiesbaden' 'Thuwal' 'Compiègne' 'Vallendar'\n",
            " 'Bandar Seri Begawan' 'Fribourg' 'Aveiro' 'Indianapolis' 'Hyderabad'\n",
            " 'Leioa' 'Braga' 'Poole' 'Changsha' 'Manipal' 'Lubbock' 'Poznań' 'Aligarh'\n",
            " 'Pilani' 'Birzeit' 'Chongqing' 'Kitakyushu' 'Samara' 'Lismore' 'Oviedo'\n",
            " 'Rabat' 'Sunshine Coast' 'Wroclaw ' 'Sarajevo' 'Dammam' 'Barnaul'\n",
            " 'Subang Jaya' 'Jounieh' 'Kajang' 'Ho Chi Minh City' 'Ajman' 'Ifranne'\n",
            " 'Noida' 'Amritapuri' 'Asyut' 'Guayaquil' 'Cyberjaya' 'Minxiong Township'\n",
            " 'Shiraz' 'Krasnoyarsk' 'Chelyabinsk' 'Košice' 'Cartago' 'Patiala'\n",
            " 'Santa Fe' 'Panama City' 'Hillah' 'Gdańsk' 'Katowice' 'Vellore' 'Hanoi'\n",
            " 'Segovia' 'Medellín' 'Tarragona' 'Shenzhen' 'Alicante' 'Kangar' 'Sonipat'\n",
            " 'Petaling Jaya' 'Liberec' 'Kuantan' 'Jakarta' 'Bexleyheath' 'Liverpool '\n",
            " 'Koura' 'San Lorenzo' 'Fisciano' 'Udine' 'Siegen' 'Kuching' 'Sungai Long'\n",
            " 'Fayetteville' 'Kota Kinabalu' 'Ostrava' 'Parma' 'Peradeniya' 'Suzhou'\n",
            " 'Newport' 'Prayagraj' 'Flagstaff' 'Temuco' 'Kuala Terengganu'\n",
            " 'College Station' 'Dijon' 'Lugano' 'Diepenbeek' 'Nicosia' 'Sao Paulo'\n",
            " 'Zaragoza' 'Santa Clara' 'Sangareddy' 'Bolzano' 'Tokushima City'\n",
            " 'Al-Ekir' 'Egaila' 'Medina' 'Perm' 'Musselburgh' 'Gliwice' 'Texcoco'\n",
            " 'San Luis ' 'Rende' 'Ancona' 'Versailles' 'Msida' 'Miskolc' 'Pardubice'\n",
            " 'Nablus' 'Damascus' 'Izmir' 'İzmir' 'Helwan' 'Mansoura ' 'Hualien City'\n",
            " 'Keelung City' 'Pavlodar' 'Nakhon Ratchasima ' 'Zarqa' 'Baja California'\n",
            " 'Querétaro' 'San Luis Potosí' 'Mérida' 'Cuernavaca' 'La Paz'\n",
            " 'Antofagasta' 'Guanajuato' 'Sangolquí' 'Hermosillo' 'Jesús María'\n",
            " 'Bernal' 'Alcorcón' 'Bergamo' 'Faisalabad' 'Basrah' 'Novi Sad' 'Split'\n",
            " 'Plzen' 'Brisbane City' 'Palaiseau Cedex' 'Aarhus' 'Padova' 'Canterbury'\n",
            " 'Golden' 'Tandil' 'Kaliningrad' 'Fredericton' 'Abu Dhabi,' 'Al Ain,'\n",
            " 'Bhubaneswar' 'Sakaka' 'Al Khobar' 'Sousse' 'Puducherry' 'Buraydah'\n",
            " 'Győr' 'Pachuca' 'Kuala Lumpur ' 'West Hartford' 'Hradec Králové'\n",
            " 'Messina' 'Kansas City' 'San Antonio' 'Tyumen' 'Zilina' 'Morgantown'\n",
            " 'Eskisehir' 'Sharqia' 'St. Catharines' 'Cheongju' 'Boca Raton' 'Irkutsk'\n",
            " 'Lviv' 'Jeju City' 'Starkville' \"Mu'tah\" 'Portland' 'Lublin' 'Osijek'\n",
            " 'Belgorod' 'Arlington' 'Zlin' 'Río Cuarto' 'Monterrico' 'Montería'\n",
            " 'Juiz de For a' 'Pelotas' 'Chieti' 'Makassar' 'Bialystok' 'Colombo,'\n",
            " 'Derby' 'Charlotte' 'Denton' 'Mobile' 'El Paso' 'Telford' 'Viterbo'\n",
            " 'Kalamazoo' 'Yangsan' 'Antalya' 'As-Salt' 'Multan' 'Tlaquepaque'\n",
            " 'Terre Haute' 'Sibiu' 'Adapazari' 'Koto City' 'Suceava' 'Khartoum'\n",
            " 'Tanta' 'Chippendale' 'Tegucigalpa' 'La Molina' 'Cartagena' 'Pereira'\n",
            " 'La Serena' 'João Pessoa' 'Goiânia' 'Padang' 'Medan' 'Kragujevac' 'Tunis'\n",
            " 'Zagazig']\n"
          ]
        }
      ]
    },
    {
      "cell_type": "markdown",
      "source": [
        "  - Persentase data kosong adalah 2.75%"
      ],
      "metadata": {
        "id": "UkqBiv2PyCpk"
      }
    },
    {
      "cell_type": "code",
      "source": [
        "# Data kosong\n",
        "print(f\"Persentase data kosong: {df_uncleaned['city'].isnull().sum()*100/len(df_uncleaned['city']):.2f}%\")"
      ],
      "metadata": {
        "colab": {
          "base_uri": "https://localhost:8080/"
        },
        "id": "3zBXRqwgyCxK",
        "outputId": "e3627d8b-249d-44ca-c521-9dae2105dd66"
      },
      "execution_count": null,
      "outputs": [
        {
          "output_type": "stream",
          "name": "stdout",
          "text": [
            "Persentase data kosong: 2.75%\n"
          ]
        }
      ]
    },
    {
      "cell_type": "markdown",
      "source": [
        "## **8. Atribut `region`**\n",
        "  - Atribut ini berisi asal benua dari universitas\n",
        "  - Jenis atribut ini adalah kategorical yang nominal\n",
        "  - Atribut ini memiliki nilai seperti \"North America\", \"Europe\", \"Asia\", \"Latin America\", \"Africa\", dan \"Oceanea\""
      ],
      "metadata": {
        "id": "s1HjEvSqLNzc"
      }
    },
    {
      "cell_type": "code",
      "source": [
        "# Nilai dari atribut\n",
        "print(f\"Contoh nilai atribut: {df_uncleaned['region'].unique()}\")"
      ],
      "metadata": {
        "colab": {
          "base_uri": "https://localhost:8080/"
        },
        "id": "846jFJgDLN4h",
        "outputId": "605f8aba-050c-4483-9339-1e2e885ad349"
      },
      "execution_count": null,
      "outputs": [
        {
          "output_type": "stream",
          "name": "stdout",
          "text": [
            "Contoh nilai atribut: ['North America' 'Europe' 'Asia' 'Oceania' 'Latin America' 'Africa']\n"
          ]
        }
      ]
    },
    {
      "cell_type": "markdown",
      "source": [
        "  - Persentase data kosong adalah 0.00%"
      ],
      "metadata": {
        "id": "HxooyZkpyL5i"
      }
    },
    {
      "cell_type": "code",
      "source": [
        "# Data kosong\n",
        "print(f\"Persentase data kosong: {df_uncleaned['region'].isnull().sum()*100/len(df_uncleaned['region']):.2f}%\")"
      ],
      "metadata": {
        "colab": {
          "base_uri": "https://localhost:8080/"
        },
        "id": "H6pLiIo9yMJG",
        "outputId": "832d3123-323f-48df-e3cd-3491c5abd015"
      },
      "execution_count": null,
      "outputs": [
        {
          "output_type": "stream",
          "name": "stdout",
          "text": [
            "Persentase data kosong: 0.00%\n"
          ]
        }
      ]
    },
    {
      "cell_type": "markdown",
      "source": [
        "## **9. Atribut `logo`**\n",
        "  - Atribut ini berisi link logo dari universitas pada website [www.topuniversities.com](https://topuniversities.com)\n",
        "  - Jenis atribut ini adalah kategorical yang nominal\n",
        "  - Atribut ini memiliki nilai seperti \"https://www.topuniversities.com/sites/default/files/massachusetts-institute-of-technology-mit_410_small.jpg\", dll"
      ],
      "metadata": {
        "id": "cRpe3nb1LOCQ"
      }
    },
    {
      "cell_type": "code",
      "source": [
        "# Nilai dari atribut\n",
        "print(f\"Contoh nilai atribut: {df_uncleaned['logo'].unique()}\")"
      ],
      "metadata": {
        "colab": {
          "base_uri": "https://localhost:8080/"
        },
        "id": "Rdbg0JdCLOHY",
        "outputId": "be586746-991b-4428-82a7-e6368888f0ae"
      },
      "execution_count": null,
      "outputs": [
        {
          "output_type": "stream",
          "name": "stdout",
          "text": [
            "Contoh nilai atribut: ['https://www.topuniversities.com/sites/default/files/massachusetts-institute-of-technology-mit_410_small.jpg'\n",
            " 'https://www.topuniversities.com/sites/default/files/stanford-university_573_small.jpg'\n",
            " 'https://www.topuniversities.com/sites/default/files/harvard-university_253_small.jpg'\n",
            " ...\n",
            " 'https://www.topuniversities.com/sites/default/files/universit-de-tunis_592560cf2aeae70239af5470_small.jpg'\n",
            " 'https://www.topuniversities.com/sites/default/files/universit-de-tunis-el-manar_592560cf2aeae70239af5472_small.jpg'\n",
            " 'https://www.topuniversities.com/sites/default/files/zagazig-university_592560cf2aeae70239af4f43_small.jpg']\n"
          ]
        }
      ]
    },
    {
      "cell_type": "markdown",
      "source": [
        "  - Persentase data kosong adalah 0.00%"
      ],
      "metadata": {
        "id": "oQVIIX58yUxV"
      }
    },
    {
      "cell_type": "code",
      "source": [
        "# Data kosong\n",
        "print(f\"Persentase data kosong: {df_uncleaned['logo'].isnull().sum()*100/len(df_uncleaned['logo']):.2f}%\")"
      ],
      "metadata": {
        "colab": {
          "base_uri": "https://localhost:8080/"
        },
        "id": "3mvexAzuyVCL",
        "outputId": "4256f109-189e-4fc7-c5ad-caee3818c015"
      },
      "execution_count": null,
      "outputs": [
        {
          "output_type": "stream",
          "name": "stdout",
          "text": [
            "Persentase data kosong: 0.00%\n"
          ]
        }
      ]
    },
    {
      "cell_type": "markdown",
      "source": [
        "## **10. Atribut `type`**\n",
        "  - Atribut ini berisi tipe public/private dari universitas\n",
        "  - Jenis atribut ini adalah kategorical yang binary\n",
        "  - Atribut ini memiliki nilai \"Private\" atau \"Public\""
      ],
      "metadata": {
        "id": "VeGmJqh5LORt"
      }
    },
    {
      "cell_type": "code",
      "source": [
        "# Nilai dari atribut\n",
        "print(f\"Contoh nilai atribut: {df_uncleaned['type'].unique()}\")\n",
        "# note: nan disini artinya not a number atau kosong."
      ],
      "metadata": {
        "colab": {
          "base_uri": "https://localhost:8080/"
        },
        "id": "D2BVpXOHLOW8",
        "outputId": "5fd6f049-3d41-4cda-e342-f09a65be39c8"
      },
      "execution_count": null,
      "outputs": [
        {
          "output_type": "stream",
          "name": "stdout",
          "text": [
            "Contoh nilai atribut: ['Private' 'Public' nan]\n"
          ]
        }
      ]
    },
    {
      "cell_type": "markdown",
      "source": [
        "  - Persentase data kosong adalah 0.19%"
      ],
      "metadata": {
        "id": "CQ6v6mHzyexi"
      }
    },
    {
      "cell_type": "code",
      "source": [
        "# Data kosong\n",
        "print(f\"Persentase data kosong: {df_uncleaned['type'].isnull().sum()*100/len(df_uncleaned['type']):.2f}%\")"
      ],
      "metadata": {
        "colab": {
          "base_uri": "https://localhost:8080/"
        },
        "id": "Q7QK5fSTye7e",
        "outputId": "a1823676-01f1-4a62-f71d-ddf3b93bbb31"
      },
      "execution_count": null,
      "outputs": [
        {
          "output_type": "stream",
          "name": "stdout",
          "text": [
            "Persentase data kosong: 0.19%\n"
          ]
        }
      ]
    },
    {
      "cell_type": "markdown",
      "source": [
        "## **11. Atribut `research_output`**\n",
        "  - Atribut ini berisi tingkat keaktifan riset dari universitas\n",
        "  - Jenis atribut ini adalah kategorical yang ordinal\n",
        "  - Atribut ini memiliki nilai 'Very High', 'Very high', 'High', 'Medium', 'Low'"
      ],
      "metadata": {
        "id": "2r1PQqH1LOf_"
      }
    },
    {
      "cell_type": "code",
      "source": [
        "# Nilai dari atribut\n",
        "print(f\"Contoh nilai atribut: {df_uncleaned['research_output'].unique()}\")\n",
        "# note: nan disini artinya not a number atau kosong."
      ],
      "metadata": {
        "colab": {
          "base_uri": "https://localhost:8080/"
        },
        "id": "CWkPhlwcLOlX",
        "outputId": "107d6f0f-46a1-4574-dad0-4daf233e861b"
      },
      "execution_count": null,
      "outputs": [
        {
          "output_type": "stream",
          "name": "stdout",
          "text": [
            "Contoh nilai atribut: ['Very High' 'Very high' 'High' 'Medium' 'Low' nan]\n"
          ]
        }
      ]
    },
    {
      "cell_type": "markdown",
      "source": [
        "  - Persentase data kosong adalah 0.03%"
      ],
      "metadata": {
        "id": "4SfPfFTAyjnm"
      }
    },
    {
      "cell_type": "code",
      "source": [
        "# Data kosong\n",
        "print(f\"Persentase data kosong: {df_uncleaned['research_output'].isnull().sum()*100/len(df_uncleaned['research_output']):.2f}%\")"
      ],
      "metadata": {
        "colab": {
          "base_uri": "https://localhost:8080/"
        },
        "id": "RR2-8J-Nyjvj",
        "outputId": "25f7761e-9857-4db6-c818-391ef732a7a9"
      },
      "execution_count": null,
      "outputs": [
        {
          "output_type": "stream",
          "name": "stdout",
          "text": [
            "Persentase data kosong: 0.03%\n"
          ]
        }
      ]
    },
    {
      "cell_type": "markdown",
      "source": [
        "## **12. Atribut `student_faculty_ratio`**\n",
        "  - Atribut ini berisi ratio dari jumlah mahasiswa per jumlah staff atau pengajar \n",
        "  - Jenis atribut ini adalah numerical yang diskrit"
      ],
      "metadata": {
        "id": "Ne7qgbC7LOtk"
      }
    },
    {
      "cell_type": "code",
      "source": [
        "# Nilai dari atribut\n",
        "print(f\"Contoh nilai atribut: {df_uncleaned['student_faculty_ratio'].unique()}\")"
      ],
      "metadata": {
        "colab": {
          "base_uri": "https://localhost:8080/"
        },
        "id": "u1WzW6CeLO0D",
        "outputId": "3cc4643c-f0ef-4f72-d9c5-c043593c1769"
      },
      "execution_count": null,
      "outputs": [
        {
          "output_type": "stream",
          "name": "stdout",
          "text": [
            "Contoh nilai atribut: [ 4.  3.  5.  2.  7.  6.  8.  9. 11. 10. 19. 13. 14. 12. 15. 17. 18. 16.\n",
            " 25. 21. nan 22. 24. 23. 20. 32. 29. 26. 35. 27. 28. 44. 31. 42. 30. 41.\n",
            " 33. 45. 38. 40. 58.  1. 67. 36.]\n"
          ]
        }
      ]
    },
    {
      "cell_type": "markdown",
      "source": [
        "  - Atribut ini memiliki range 66.0"
      ],
      "metadata": {
        "id": "f3UX9BUIyx-t"
      }
    },
    {
      "cell_type": "code",
      "source": [
        "# Range\n",
        "print(f\"Range: {df_uncleaned['student_faculty_ratio'].max() - df_uncleaned['student_faculty_ratio'].min()}\")"
      ],
      "metadata": {
        "colab": {
          "base_uri": "https://localhost:8080/"
        },
        "id": "-cfROa5_yyWZ",
        "outputId": "88ba5de6-8307-458e-a2c6-a3c900c5f29b"
      },
      "execution_count": null,
      "outputs": [
        {
          "output_type": "stream",
          "name": "stdout",
          "text": [
            "Range: 66.0\n"
          ]
        }
      ]
    },
    {
      "cell_type": "markdown",
      "source": [
        "  - Persentase data kosong adalah 1.16%"
      ],
      "metadata": {
        "id": "y5AY68TfyywD"
      }
    },
    {
      "cell_type": "code",
      "source": [
        "# Data kosong\n",
        "print(f\"Persentase data kosong: {df_uncleaned['student_faculty_ratio'].isnull().sum()*100/len(df_uncleaned['student_faculty_ratio']):.2f}%\")"
      ],
      "metadata": {
        "colab": {
          "base_uri": "https://localhost:8080/"
        },
        "id": "uL7G7gmSyy5s",
        "outputId": "7b07a95d-947e-4bc9-9fef-7bfe5706cb68"
      },
      "execution_count": null,
      "outputs": [
        {
          "output_type": "stream",
          "name": "stdout",
          "text": [
            "Persentase data kosong: 1.16%\n"
          ]
        }
      ]
    },
    {
      "cell_type": "markdown",
      "source": [
        "## **13. Atribut `international_students`**\n",
        "  - Atribut ini berisi jumlah mahasiswa internasional yang mengikuti universitas tersebut\n",
        "  - Jenis atribut ini adalah numerical yang diskrit"
      ],
      "metadata": {
        "id": "GOLbyYeBLO6u"
      }
    },
    {
      "cell_type": "code",
      "source": [
        "# Mengoreksi nilai data (jika tidak, data akan dianggap python tidak masuk akal.)\n",
        "cek_range_is = df_uncleaned['international_students'].apply(lambda x: str(x).replace(',','')) # Step 2\n",
        "cek_range_is = cek_range_is.apply(lambda x: str(x).replace('.','')) # Step 3\n",
        "cek_range_is = cek_range_is.apply(lambda x: float(x)) # Step 4\n",
        "cek_range_is = cek_range_is.loc[cek_range_is.isna() == False].apply(lambda x: float(x))\n",
        "\n",
        "# Nilai dari atribut\n",
        "print(f\"Contoh nilai atribut: {cek_range_is.unique()}\")"
      ],
      "metadata": {
        "colab": {
          "base_uri": "https://localhost:8080/"
        },
        "id": "zpLzuSx3LPBK",
        "outputId": "c649ee89-28ca-4e2c-84e4-d37f1e971e6a"
      },
      "execution_count": null,
      "outputs": [
        {
          "output_type": "stream",
          "name": "stdout",
          "text": [
            "Contoh nilai atribut: [3730. 3879. 5877. ...  157.  585. 2300.]\n"
          ]
        }
      ]
    },
    {
      "cell_type": "markdown",
      "source": [
        "  - Atribut ini memiliki range 31048.0"
      ],
      "metadata": {
        "id": "AC_ZKDr1zT_I"
      }
    },
    {
      "cell_type": "code",
      "source": [
        "# Range\n",
        "print(f\"Range: {cek_range_is.max() - cek_range_is.min()}\")"
      ],
      "metadata": {
        "colab": {
          "base_uri": "https://localhost:8080/"
        },
        "id": "e5NQBdQIzUHC",
        "outputId": "46653603-6671-4dde-dcc0-be2bf3706cc1"
      },
      "execution_count": null,
      "outputs": [
        {
          "output_type": "stream",
          "name": "stdout",
          "text": [
            "Range: 31048.0\n"
          ]
        }
      ]
    },
    {
      "cell_type": "markdown",
      "source": [
        "  - Persentase data kosong adalah 2.53%"
      ],
      "metadata": {
        "id": "hljfAYMDzUSk"
      }
    },
    {
      "cell_type": "code",
      "source": [
        "# Data kosong\n",
        "print(f\"Persentase data kosong: {df_uncleaned['international_students'].isnull().sum()*100/len(df_uncleaned['international_students']):.2f}%\")"
      ],
      "metadata": {
        "colab": {
          "base_uri": "https://localhost:8080/"
        },
        "id": "-3kBiTDozUa0",
        "outputId": "41b8d385-7dd7-4b9d-a59f-9200b182982f"
      },
      "execution_count": null,
      "outputs": [
        {
          "output_type": "stream",
          "name": "stdout",
          "text": [
            "Persentase data kosong: 2.53%\n"
          ]
        }
      ]
    },
    {
      "cell_type": "markdown",
      "source": [
        "## **14. Atribut `size`**\n",
        "  - Atribut ini berisi ukuran tanah dari universitas\n",
        "  - Jenis atribut ini adalah kategorical yang ordinal\n",
        "  - Atribut ini memiliki nilai seperti \"S\", \"M\", \"L\", \"XL\""
      ],
      "metadata": {
        "id": "yPDxCIStLPXs"
      }
    },
    {
      "cell_type": "code",
      "source": [],
      "metadata": {
        "id": "GSu07ODG7cds"
      },
      "execution_count": null,
      "outputs": []
    },
    {
      "cell_type": "code",
      "source": [
        "# Nilai dari atribut\n",
        "print(f\"Contoh nilai atribut: {df_uncleaned['size'].unique()}\")\n",
        "# note: nan disini artinya not a number atau kosong."
      ],
      "metadata": {
        "colab": {
          "base_uri": "https://localhost:8080/"
        },
        "id": "w-6zri5mLPci",
        "outputId": "e1495a4c-a43a-45c6-81bd-f54298a7576d"
      },
      "execution_count": null,
      "outputs": [
        {
          "output_type": "stream",
          "name": "stdout",
          "text": [
            "Contoh nilai atribut: ['M' 'L' 'S' 'XL' nan]\n"
          ]
        }
      ]
    },
    {
      "cell_type": "markdown",
      "source": [
        "  - Persentase data kosong adalah 0.03%"
      ],
      "metadata": {
        "id": "W79pLcyZzhNY"
      }
    },
    {
      "cell_type": "code",
      "source": [
        "# Data kosong\n",
        "print(f\"Persentase data kosong: {df_uncleaned['size'].isnull().sum()*100/len(df_uncleaned['size']):.2f}%\")"
      ],
      "metadata": {
        "colab": {
          "base_uri": "https://localhost:8080/"
        },
        "id": "BC2gnFe9zhVm",
        "outputId": "1c904bfe-c488-4a67-8905-e114403fcc10"
      },
      "execution_count": null,
      "outputs": [
        {
          "output_type": "stream",
          "name": "stdout",
          "text": [
            "Persentase data kosong: 0.03%\n"
          ]
        }
      ]
    },
    {
      "cell_type": "markdown",
      "source": [],
      "metadata": {
        "id": "i207tw6-zhhw"
      }
    },
    {
      "cell_type": "markdown",
      "source": [
        "## **15. Atribut `faculty_count`**\n",
        "  - Atribut ini berisi jumlah staff fakultas atau akademik dari universitas\n",
        "  - Jenis atribut ini adalah numerical yang diskrit"
      ],
      "metadata": {
        "id": "sRA_si7WLPi9"
      }
    },
    {
      "cell_type": "code",
      "source": [
        "# Mengoreksi nilai data (jika tidak, data akan dianggap python tidak masuk akal.)\n",
        "df_cor = df_uncleaned.loc[df_uncleaned['faculty_count'].isnull() == False]['faculty_count']\n",
        "df_cor = df_cor.apply(lambda x: str(x).replace(',',''))\n",
        "df_cor = df_cor.apply(lambda x: int(float(x)))\n",
        "\n",
        "# Nilai dari atribut\n",
        "print(f\"Contoh nilai atribut: {df_cor.unique()}\")\n",
        "print(df_cor.min())"
      ],
      "metadata": {
        "colab": {
          "base_uri": "https://localhost:8080/"
        },
        "id": "V5-joMXvLPna",
        "outputId": "ed3e1927-3f5d-4f94-8023-620d7c108925"
      },
      "execution_count": null,
      "outputs": [
        {
          "output_type": "stream",
          "name": "stdout",
          "text": [
            "Contoh nilai atribut: [ 3065  4725  4646  5800   968  6708  7195  2719  8000  2703  1050  4288\n",
            "  3812  1767  5391  2843  4855  5154  4832  7087  4216  1763  7132  6174\n",
            "  5673  3652  2944  3701  4889  3876  4487  9881   178  4473  3859   697\n",
            "  3911  1172  5302  4545 20311  4835  4526  2201  6201  3571  7874  1307\n",
            "  3219  1389  3513  2634  5166   633  1483  1492  6000  1534  2796  6663\n",
            "  4386  2041  3127  3314  3852  2748  2887  3914  2939  7293  1267  4100\n",
            "  3040  1775  3323  3386  1208  2677  3761  2316  3586   743  3463 16103\n",
            "  3420  2468  6388  2642   996  2855  2622  3593  3645  4207  1814  3600\n",
            "  4026  1383  2080  2069  1539  3254  2708  3313  3193  6575  2219  6065\n",
            "  2822  3605  2600  3724  2512   683  1597  2767  4943  1967  1145  2119\n",
            "  1757  5533  2209 16381  1440  2476  5537  3798  2386  1396  2761  3116\n",
            "  5087  1478  2500  3350  4680  1036  1175  2699  4746  2431  2343  2295\n",
            "  3819  2725  1265  1908   446  1315  3637  2775  2771   836  1339  3002\n",
            "  3049  3008  1993  2331  2393   552  4517  2766  1333  2946  3164  2731\n",
            "  1418  1152  1325  1836  3717   387  1634  1177  1212  1815  1659   761\n",
            "  6222  1853   843  2808  1320  1103  2074  1875  1503  2183  1951  2325\n",
            "  2668  1311  2598  2412  3833  1639  2132  1545  3088  5894  2885  1704\n",
            "  2869  4636  1048     1  2009  4028  1101  1410  1015  1808  3287  1287\n",
            "  2073  1193  1679  1124   964  2032  5724  1505   831  4047  1445  1459\n",
            "  4778  1518  2079  8010  1005   953  1135  1766   804   884  1835  1852\n",
            "  3354  1859   300  1206  2565  2098  3054     3     2  1221  3755   932\n",
            "  2680  3435   289   338  3055  2174  1223  1107  1532  3828  2028  1944\n",
            "  3215   980   585  3850   785  1619  4054  1150  1869   444  3837  1677\n",
            "  1218     4  7002  1769  5009  5019  2829   551  1698  4349   663   965\n",
            "  3805   639   770   970  2785  3729   665  2485   595  4210   865   806\n",
            "   930  2249   745   471  1918   180  2806  1209  2940   643   860  2724\n",
            "  1605  1473  1110  1739   810  4173  1851   730  1471   578  3658  4000\n",
            "  2516   982     5  1742   728  3290  1760  1163   934   735   689   499\n",
            "  2228   611   402   998   999   740   985   919   307   883   625  4089\n",
            "   495   590   371  1255   889   388   946   833   834   560   916   195\n",
            "   325  2282  1700   617   276   298   822  2369   571   410   540  3944\n",
            "   516   532     7   941  4728   696   507   525   220   885   562   369\n",
            "   613   732   231   892   952   650   311   644    11   116   939   347\n",
            "   814   897   707   714   504   981   500   395   838     6   857   923\n",
            "   753   291   416   274   943   915  3890   699   295   187  3498  1765\n",
            "   438   862   787   432  4441  1512   266   692   442   686   764   315\n",
            "   510   684   821   773   437   570   784   678   323    10   239 18933\n",
            "  9852  1077   427   949   233  1613  2106  5525  1294  2414   849   971\n",
            "   533  1562   788  2852   403  1441   863   791  2097     8   719   601\n",
            "  1252   251   986  1693   458  1468   913  1062   917  1429   629   312\n",
            "  1169   588  1465   725   225   452   877   620  1262   652   861   378\n",
            "   969   893   518   733  4552  1798   600  2688   815  1014   846   922\n",
            "   218   275  1119  3064  1001  1886  1526  2150   508   776  2558  1375\n",
            "  2629  1985  1249  3203   724   741   736  1063  1479   823  1535  1008\n",
            "  3414  2129  1308  1268  1494   467  4674  3211   523  1972   837   582\n",
            "  1497   879   816  2356  2224   648  2492   575   647  1990   376  1846\n",
            "   904   514  1053  1331  1113   760  4482  1730   565   106  4424   623\n",
            "   145   468   150   174   475  1427   401   589   718   405   891   993\n",
            "   343   572   855   754  1806  2081   139   744   963    59   670   635\n",
            "  3082   469   634  2264   357   935   303   142  2236  1696  5222   486\n",
            "   828   310   636  4704   710   695  1081   314   812   509  1382  1242\n",
            "  1858  1340  1251  2072  2919   440   662   903   910   680   782   832\n",
            "   569   543   615  1568   561  1417   674   476   723   412   153  1236\n",
            "  1660   603   550  4304  1174  1176   894  1364   959   564  1007  1457\n",
            "  1277  3539  1451   155   144   522   462   544  1158  1123  2323   420\n",
            "   987  2077   498   867   869   451   318   259   279   967   906   135\n",
            "   184   775   924   207  1097   602   954   900   653   443  1011   703\n",
            "   727  2597  2238  3165  6629   271   288  7556   563   566   781   882\n",
            "   381  1363   888  1032   558   748  2962  1570  1056  1630   807  2736\n",
            "   621  8203  2045  1530   492  2678  1654  1041   210  2617   608   887\n",
            "   701  1460  2743  1306  1326  1688  1057  2112   921   194   161   790\n",
            "   221   322   688   517   524   841  1182  1296  1336   750  1095  1509\n",
            "   786   599   772  1220  1324  1139  1072  1127   839  1774   864  1582\n",
            "  1447   715   396  1091  1157  1136   430  3365  2497   568  1794  1347\n",
            "   975  1481  1706   819   614  1566  1351   717   756  1065  1303  1395\n",
            "   390  1144   474   406  1860  1727  1380   820  1213   537  2192   795\n",
            "  1573  3317   951   758  3451  1580  1104   308   742  2651   386  5622\n",
            "   424   408  3888   234   789   213  2395  1983  1829  2720   777   908\n",
            "  3504  5871]\n",
            "1\n"
          ]
        }
      ]
    },
    {
      "cell_type": "markdown",
      "metadata": {
        "id": "Dcng0Cl3___a"
      },
      "source": [
        "\n",
        "\n",
        "---\n",
        "\n",
        "\n",
        "# **Data Preprocessing dan Data Cleansing**\n",
        "Data yang kotor terdapat pada 11 atribut, yaitu link `rank_display`,`score`, `city`, `type`, `research_output`,`student_faculty_ratio`, `international_students`, `size`, `faculty_count`. Data-data yang kotor kami bersihkan menggunakan library Pandas di Python dengan ketentuan masing-masing atribut kami jelaskan dibawah (❗**Urutan nomor adalah urutan proses cleansing & preprocessing, bukan urutan atribut pada data asli**❗)."
      ]
    },
    {
      "cell_type": "markdown",
      "source": [
        "## **1. Atribut `link`**\n",
        "- Deskripsi:\n",
        "\n",
        "  Data pada atribut `link` tidak akan dipakai untuk analisis sehingga dibuang saja. Persentase preprocessing data pada atribut ini adalah 100%."
      ],
      "metadata": {
        "id": "IrihCbp6kCPc"
      }
    },
    {
      "cell_type": "code",
      "source": [
        "# Mengecek data\n",
        "print(df_uncleaned[\"link\"].unique(), end=\"\\n\\n\")\n",
        "\n",
        "# Persentase Data Kotor\n",
        "print(\"100% karena dibuang semua\")"
      ],
      "metadata": {
        "colab": {
          "base_uri": "https://localhost:8080/"
        },
        "id": "bWhqGC3lTEt3",
        "outputId": "e2d01047-f972-4ff5-c5e0-4af06a8b28f8"
      },
      "execution_count": null,
      "outputs": [
        {
          "output_type": "stream",
          "name": "stdout",
          "text": [
            "['https://www.topuniversities.com/universities/massachusetts-institute-technology-mit'\n",
            " 'https://www.topuniversities.com/universities/stanford-university'\n",
            " 'https://www.topuniversities.com/universities/harvard-university' ...\n",
            " 'https://www.topuniversities.com/universities/universite-de-tunis'\n",
            " 'https://www.topuniversities.com/universities/universite-de-tunis-el-manar'\n",
            " 'https://www.topuniversities.com/universities/zagazig-university']\n",
            "\n",
            "100% karena dibuang semua\n"
          ]
        }
      ]
    },
    {
      "cell_type": "markdown",
      "source": [
        "- Cara Preprocessing: Membuang kolom `link`\n",
        "\n",
        "- Solusi Pemrograman: Membuang kolom `link` pada dataframe menggunakan method `.drop()`"
      ],
      "metadata": {
        "id": "3rx9n2L7eNZj"
      }
    },
    {
      "cell_type": "code",
      "source": [
        "# Cleaning atribut link\n",
        "df_chg_uncleaned.drop('link', axis=1, inplace=True)"
      ],
      "metadata": {
        "id": "suRVcixdkCdh"
      },
      "execution_count": null,
      "outputs": []
    },
    {
      "cell_type": "markdown",
      "source": [
        "## **2. Atribut `logo`**\n",
        "- Deskripsi:\n",
        "\n",
        "  Data pada atribut `logo` tidak akan dipakai untuk analisis sehingga dibuang saja. Persentase preprocessing data pada atribut ini adalah 100%."
      ],
      "metadata": {
        "id": "Ihl45YRJt4Zu"
      }
    },
    {
      "cell_type": "code",
      "source": [
        "# Mengecek kekototran data\n",
        "print(df_uncleaned[\"logo\"].unique(), end=\"\\n\\n\")\n",
        "\n",
        "# Persentase Data Kotor\n",
        "print(\"100% karena dibuang semua\")"
      ],
      "metadata": {
        "colab": {
          "base_uri": "https://localhost:8080/"
        },
        "id": "cDSD0sQ3t5sZ",
        "outputId": "55b79398-cd34-4ec9-a3af-55024c5d45a1"
      },
      "execution_count": null,
      "outputs": [
        {
          "output_type": "stream",
          "name": "stdout",
          "text": [
            "['https://www.topuniversities.com/sites/default/files/massachusetts-institute-of-technology-mit_410_small.jpg'\n",
            " 'https://www.topuniversities.com/sites/default/files/stanford-university_573_small.jpg'\n",
            " 'https://www.topuniversities.com/sites/default/files/harvard-university_253_small.jpg'\n",
            " ...\n",
            " 'https://www.topuniversities.com/sites/default/files/universit-de-tunis_592560cf2aeae70239af5470_small.jpg'\n",
            " 'https://www.topuniversities.com/sites/default/files/universit-de-tunis-el-manar_592560cf2aeae70239af5472_small.jpg'\n",
            " 'https://www.topuniversities.com/sites/default/files/zagazig-university_592560cf2aeae70239af4f43_small.jpg']\n",
            "\n",
            "100% karena dibuang semua\n"
          ]
        }
      ]
    },
    {
      "cell_type": "markdown",
      "source": [
        "- Cara Preprocessing: Membuang kolom `logo`\n",
        "\n",
        "- Solusi Pemrograman: Membuang kolom `logo` pada dataframe menggunakan method `.drop()`"
      ],
      "metadata": {
        "id": "51n-jkpAkFX9"
      }
    },
    {
      "cell_type": "code",
      "source": [
        "# Cleaning atribut logo\n",
        "df_chg_uncleaned.drop('logo', axis=1, inplace=True)"
      ],
      "metadata": {
        "id": "6YImbfIwkHja"
      },
      "execution_count": null,
      "outputs": []
    },
    {
      "cell_type": "markdown",
      "source": [
        "\n",
        "## **3. Atribut `rank_display`**\n",
        "- Deskripsi:\n",
        "\n",
        "  Kekotoran data pada atribut rank_display berupa beberapa data yang kosong dan data bukan bernilai integer (namun data bernilai string seperti \"700-800\"). Persentase kekotoran data pada atribut ini adalah  48.24%."
      ],
      "metadata": {
        "id": "DAY0dSp-fwrV"
      }
    },
    {
      "cell_type": "code",
      "source": [
        "# Mengecek kekotoran data\n",
        "# Format tidak benar\n",
        "print(df_uncleaned.loc[(pd.to_numeric(df_uncleaned['rank_display'], errors='coerce').isna()) & (df_uncleaned['rank_display'].isnull() == False)]['rank_display'], end=\"\\n\\n\")\n",
        "# Data kosong (NaN)\n",
        "print(df_uncleaned.loc[df_uncleaned['rank_display'].isnull()]['rank_display'], end=\"\\n\\n\")\n",
        "\n",
        "# Persentase data kotor (kosong + salah format)\n",
        "rank_kosong = (df_uncleaned['rank_display'].isnull() == True).sum()\n",
        "rank_format = ((pd.to_numeric(df_uncleaned['rank_display'], errors='coerce').isna()) & (df_uncleaned['rank_display'].isnull() == False)).sum()\n",
        "print(f\"Persentase data kotor adalah {(rank_kosong+rank_format)*100/len(df_uncleaned['rank_display']):.2f}%\")"
      ],
      "metadata": {
        "colab": {
          "base_uri": "https://localhost:8080/"
        },
        "id": "Co0mgKXkW63-",
        "outputId": "cf84abe9-f5fd-4e81-d341-68879160ceca"
      },
      "execution_count": null,
      "outputs": [
        {
          "output_type": "stream",
          "name": "stdout",
          "text": [
            "400       401-410\n",
            "401       401-410\n",
            "402       401-410\n",
            "403       401-410\n",
            "404       401-410\n",
            "          ...    \n",
            "6379    1001-1200\n",
            "6380    1001-1200\n",
            "6381    1001-1200\n",
            "6382    1001-1200\n",
            "6383    1001-1200\n",
            "Name: rank_display, Length: 3059, dtype: object\n",
            "\n",
            "914     NaN\n",
            "915     NaN\n",
            "916     NaN\n",
            "917     NaN\n",
            "918     NaN\n",
            "       ... \n",
            "5152    NaN\n",
            "5154    NaN\n",
            "5169    NaN\n",
            "5177    NaN\n",
            "5179    NaN\n",
            "Name: rank_display, Length: 68, dtype: object\n",
            "\n",
            "Persentase data kotor adalah 48.24%\n"
          ]
        }
      ]
    },
    {
      "cell_type": "markdown",
      "source": [
        "- Cara Pembersihan:\n",
        "\n",
        "  Data dibersihkan dengan cara menghapus data yang kosong dan juga menghapus data universitas yang tidak 400 besar\n",
        "\n",
        "- Solusi Pemrograman:\n",
        "  1. Membuang data yang kosong pada atribut `rank_display`\n",
        "  2. Karena datanya range, maka akan ada karakter \"-\". Kita ganti dengan angka \"0\"\n",
        "  3. Kita ambil data universitas 400 tertinggi (untuk menghindari nilai range). Data range tadi akan terfilter karena angkanya yang lebih dari 400 setelah diganti.\n",
        "  4. Lalu reset index dataframe"
      ],
      "metadata": {
        "id": "H3asgc--d5vo"
      }
    },
    {
      "cell_type": "code",
      "source": [
        "# Cleaning atribut rank_display\n",
        "df_chg_uncleaned = df_chg_uncleaned.dropna(subset=['rank_display']) # Step 1\n",
        "df_chg_uncleaned['rank_display'] = df_chg_uncleaned['rank_display'].apply(lambda x: int(str(x).replace('-','0'))) # Step 2\n",
        "df_chg_uncleaned = df_chg_uncleaned.loc[df_chg_uncleaned[\"rank_display\"] <= 400] # Step 3\n",
        "df_chg_uncleaned.reset_index(drop=True, inplace=True) # Step 4"
      ],
      "metadata": {
        "id": "j8iTC8DgfgHC",
        "colab": {
          "base_uri": "https://localhost:8080/"
        },
        "outputId": "20715fd8-3a9d-49b4-8b33-2714173bc834"
      },
      "execution_count": null,
      "outputs": [
        {
          "output_type": "stream",
          "name": "stderr",
          "text": [
            "/usr/local/lib/python3.7/dist-packages/ipykernel_launcher.py:3: SettingWithCopyWarning: \n",
            "A value is trying to be set on a copy of a slice from a DataFrame.\n",
            "Try using .loc[row_indexer,col_indexer] = value instead\n",
            "\n",
            "See the caveats in the documentation: https://pandas.pydata.org/pandas-docs/stable/user_guide/indexing.html#returning-a-view-versus-a-copy\n",
            "  This is separate from the ipykernel package so we can avoid doing imports until\n"
          ]
        }
      ]
    },
    {
      "cell_type": "markdown",
      "source": [
        "## **4. Atribut `score`**\n",
        "- Deskripsi: \\\\\n",
        "Kekotoran data Pada atribut score berupa data yang kosong. Persentase kekotoran data pada atribut ini adalah 56.49%."
      ],
      "metadata": {
        "id": "GHekWn32fmAN"
      }
    },
    {
      "cell_type": "code",
      "source": [
        "# Mengecek data data kosong (NaN)\n",
        "print(df_uncleaned.loc[df_uncleaned['score'].isnull()]['score'], end=\"\\n\\n\")\n",
        "\n",
        "# Persentase Kekotoran\n",
        "print(f\"Persentase data kosong: {df_uncleaned['score'].isnull().sum()*100/len(df_uncleaned['score']):.2f}%\")"
      ],
      "metadata": {
        "id": "1jUqQlP31HEF",
        "colab": {
          "base_uri": "https://localhost:8080/"
        },
        "outputId": "cb5423d3-f803-43b6-ff30-e7c1b5e50c75"
      },
      "execution_count": null,
      "outputs": [
        {
          "output_type": "stream",
          "name": "stdout",
          "text": [
            "375    NaN\n",
            "400    NaN\n",
            "401    NaN\n",
            "402    NaN\n",
            "403    NaN\n",
            "        ..\n",
            "6477   NaN\n",
            "6478   NaN\n",
            "6479   NaN\n",
            "6480   NaN\n",
            "6481   NaN\n",
            "Name: score, Length: 3662, dtype: float64\n",
            "\n",
            "Persentase data kosong: 56.49%\n"
          ]
        }
      ]
    },
    {
      "cell_type": "markdown",
      "source": [
        "- Pembersihan: \\\\\n",
        "Data yang kotor ini dibersihkan dengan cara mengisi data dengan ketentuan jika ada data universitas lain dengan ranking yang sama, maka score data yang hilang akan sama dengan score universitas tersebut dan jika data yang kotor terletak di antara dua ranking yang berbeda, maka score data yang kotor adalah rata-rata dari dua data terdekatnya (atas dan bawahnya).\n",
        "\n",
        "- Solusi Pemrograman:\n",
        "  1. Mencari data `score` yang kosong\n",
        "  2. Looping pada atribut tersebut lalu mengisi data dengan ketentuan diatas"
      ],
      "metadata": {
        "id": "J_DXhg-adv75"
      }
    },
    {
      "cell_type": "code",
      "source": [
        "# Cleaning atribut score\n",
        "score_empty = pd.isna(df_chg_uncleaned['score']).tolist() # Step 1\n",
        "for i in range(len(df_chg_uncleaned)): # Step 2\n",
        "    if score_empty[i] == True:\n",
        "        if df_chg_uncleaned.loc[i-1, \"rank_display\"] == df_chg_uncleaned.loc[i, \"rank_display\"]:\n",
        "            df_chg_uncleaned.at[i, 'score'] = df_chg_uncleaned.loc[i-1, \"score\"]\n",
        "        elif df_chg_uncleaned.loc[i+1, \"rank_display\"] == df_chg_uncleaned.loc[i, \"rank_display\"]:\n",
        "            df_chg_uncleaned.at[i, 'score'] = df_chg_uncleaned.loc[i+1, \"score\"]\n",
        "        else:\n",
        "            df_chg_uncleaned.at[i, 'score'] = (df_chg_uncleaned.loc[i-1, \"score\"]+df_chg_uncleaned.loc[i+1, \"score\"])/2"
      ],
      "metadata": {
        "id": "Rkvk71AEj3Mi"
      },
      "execution_count": null,
      "outputs": []
    },
    {
      "cell_type": "markdown",
      "source": [
        "## **5. Atribut `city`**\n",
        "- Deskripsi:\n",
        "\n",
        "  Kekotoran data Pada atribut score berupa data yang kosong. Terdapat 54 data yang kotor dari 2400 data. Persentase kekotoran data pada atribut ini adalah 2.75%.\n"
      ],
      "metadata": {
        "id": "acM_OJ-vfZ_b"
      }
    },
    {
      "cell_type": "code",
      "source": [
        "# Pengecekan Data kosong (NaN)\n",
        "print(df_uncleaned.loc[df_uncleaned['city'].isnull()]['city'], end=\"\\n\\n\")\n",
        "\n",
        "# Persentase Kekotoran\n",
        "print(f\"Persentase data kosong: {df_uncleaned['city'].isnull().sum()*100/len(df_uncleaned['city']):.2f}%\")"
      ],
      "metadata": {
        "colab": {
          "base_uri": "https://localhost:8080/"
        },
        "id": "S2mff2pRRTE4",
        "outputId": "e6f3a9ee-f2a1-4c5c-8ab6-5c70a01299a1"
      },
      "execution_count": null,
      "outputs": [
        {
          "output_type": "stream",
          "name": "stdout",
          "text": [
            "116     NaN\n",
            "194     NaN\n",
            "241     NaN\n",
            "265     NaN\n",
            "344     NaN\n",
            "       ... \n",
            "6405    NaN\n",
            "6408    NaN\n",
            "6422    NaN\n",
            "6427    NaN\n",
            "6431    NaN\n",
            "Name: city, Length: 178, dtype: object\n",
            "\n",
            "Persentase data kosong: 2.75%\n"
          ]
        }
      ]
    },
    {
      "cell_type": "markdown",
      "source": [
        "- Pembersihan:\n",
        "\n",
        "  Data yang kotor ini dibersihkan dengan cara mengisi data dengan mencari kota dari universitas yang hilang datanya pada google.\n",
        "\n",
        "- Solusi Pemrograman:\n",
        "  1. Mencari data yang kosong pada atribut `city`\n",
        "  2. Looping pada atribut tersebut lalu mengisi data."
      ],
      "metadata": {
        "id": "nlVxMMOSmgaO"
      }
    },
    {
      "cell_type": "code",
      "source": [
        "# Cleaning atribut city\n",
        "city_empty = pd.isna(df_chg_uncleaned['city']).tolist() # Step 1\n",
        "for i in range(len(df_chg_uncleaned)): # Step 2\n",
        "    if city_empty[i] == True:\n",
        "        if df_chg_uncleaned.loc[i, \"university\"] == \"Université PSL\" or df_chg_uncleaned.loc[i, \"university\"] == \"Sorbonne University\":\n",
        "            df_chg_uncleaned.at[i, \"city\"] = \"Paris\"\n",
        "        elif df_chg_uncleaned.loc[i, \"university\"] == \"Université Paris-Saclay\":\n",
        "            df_chg_uncleaned.at[i, \"city\"] = \"Gif-sur-Yvette\"\n",
        "        elif df_chg_uncleaned.loc[i, \"university\"] == \"Aarhus University\":\n",
        "            df_chg_uncleaned.at[i, \"city\"] = \"Aarhus\"\n",
        "        elif df_chg_uncleaned.loc[i, \"university\"] == \"Queen's University Belfast\":\n",
        "            df_chg_uncleaned.at[i, \"city\"] = \"Belfast\"\n",
        "        elif df_chg_uncleaned.loc[i, \"university\"] == \"Ulsan National Institute of Science and Technology (UNIST)\":\n",
        "            df_chg_uncleaned.at[i, \"city\"] = \"Ulsan\"\n",
        "        elif df_chg_uncleaned.loc[i, \"university\"] == \"Kyung Hee University\":\n",
        "            df_chg_uncleaned.at[i, \"city\"] = \"Seoul\"\n",
        "        elif df_chg_uncleaned.loc[i, \"university\"] == \"National Yang Ming Chiao Tung University\":\n",
        "            df_chg_uncleaned.at[i, \"city\"] = \"Taipei City\"\n",
        "        elif df_chg_uncleaned.loc[i, \"university\"] == \"Southern University of Science and Technology\":\n",
        "            df_chg_uncleaned.at[i, \"city\"] = \"Shenzhen\"\n",
        "        elif df_chg_uncleaned.loc[i, \"university\"] == \"University of Macau\":\n",
        "            df_chg_uncleaned.at[i, \"city\"] = \"Taipa\"\n",
        "        elif df_chg_uncleaned.loc[i, \"university\"] == \"Brunel University London\":\n",
        "            df_chg_uncleaned.at[i, \"city\"] = \"Uxbridge\"\n",
        "        elif df_chg_uncleaned.loc[i, \"university\"] == \"Oxford Brookes University\":\n",
        "            df_chg_uncleaned.at[i, \"city\"] = \"Oxford\"\n",
        "        elif df_chg_uncleaned.loc[i, \"university\"] == \"National Research Tomsk Polytechnic University\":\n",
        "            df_chg_uncleaned.at[i, \"city\"] = \"Tomsk\"\n",
        "        elif df_chg_uncleaned.loc[i, \"university\"] == \"UCSI University\":\n",
        "            df_chg_uncleaned.at[i, \"city\"] = \"Kuala Lumpur\""
      ],
      "metadata": {
        "id": "dtN1xOErjscj"
      },
      "execution_count": null,
      "outputs": []
    },
    {
      "cell_type": "markdown",
      "source": [
        "## **6. Atribut `type`**\n",
        "- Deskripsi:\n",
        "\n",
        "  Kekotoran data Pada atribut `type` berupa data yang kosong. Persentase kekotoran data pada atribut ini adalah 0.19%."
      ],
      "metadata": {
        "id": "ZqcXCtbMjjt4"
      }
    },
    {
      "cell_type": "code",
      "source": [
        "# Pengecekan Data kosong (NaN)\n",
        "print(df_uncleaned.loc[df_uncleaned['type'].isnull()]['type'], end=\"\\n\\n\")\n",
        "\n",
        "# Persentase Kekotoran\n",
        "print(f\"Persentase data kotor: {df_uncleaned['type'].isnull().sum()*100/len(df_uncleaned['type']):.2f}%\")"
      ],
      "metadata": {
        "colab": {
          "base_uri": "https://localhost:8080/"
        },
        "id": "3LiEyEqNRgeI",
        "outputId": "1a6d1992-8618-4d3a-aa4c-ceadf09c0c89"
      },
      "execution_count": null,
      "outputs": [
        {
          "output_type": "stream",
          "name": "stdout",
          "text": [
            "1124    NaN\n",
            "1126    NaN\n",
            "2076    NaN\n",
            "2084    NaN\n",
            "3105    NaN\n",
            "3131    NaN\n",
            "3152    NaN\n",
            "3983    NaN\n",
            "5037    NaN\n",
            "5064    NaN\n",
            "5065    NaN\n",
            "5076    NaN\n",
            "Name: type, dtype: object\n",
            "\n",
            "Persentase data kotor: 0.19%\n"
          ]
        }
      ]
    },
    {
      "cell_type": "markdown",
      "source": [
        "- Pembersihan:\n",
        "\n",
        "  Data yang kotor ini dibersihkan dengan cara mengisi data dengan mencari tipe dari universitas yang hilang datanya public atau private pada google.\n",
        "\n",
        "- Solusi Pemrograman:\n",
        "  1. Mencari data yang kosong pada atribut `type`\n",
        "  2. Looping pada atribut tersebut lalu mengisi data."
      ],
      "metadata": {
        "id": "fjX8sH-omuvv"
      }
    },
    {
      "cell_type": "code",
      "source": [
        "# Cleaning atribut type\n",
        "type_empty = pd.isna(df_chg_uncleaned['type']).tolist()\n",
        "for i in range(len(df_chg_uncleaned)):\n",
        "    if type_empty[i] == True:\n",
        "            df_chg_uncleaned.at[i, \"type\"] = \"Public\""
      ],
      "metadata": {
        "id": "J9kp9QqZjj19"
      },
      "execution_count": null,
      "outputs": []
    },
    {
      "cell_type": "markdown",
      "source": [
        "## **7. Atribut `research_output`**\n",
        "- Deskripsi:\n",
        "\n",
        "  Kekotoran data Pada atribut score berupa data yang kosong. Persentase kekotoran data pada atribut ini adalah 0.03%."
      ],
      "metadata": {
        "id": "k0XBrYysjj8u"
      }
    },
    {
      "cell_type": "code",
      "source": [
        "# Pengecekan Data kosong (NaN)\n",
        "print(df_uncleaned.loc[df_uncleaned['research_output'].isnull()]['research_output'], end=\"\\n\\n\")\n",
        "\n",
        "# Persentase Kekotoran\n",
        "print(f\"Persentase data kotor: {df_uncleaned['research_output'].isnull().sum()*100/len(df_uncleaned['research_output']):.2f}%\")"
      ],
      "metadata": {
        "colab": {
          "base_uri": "https://localhost:8080/"
        },
        "id": "WvBr3QGqSNVF",
        "outputId": "d2436520-be5f-4b6e-bf62-65c89772fb93"
      },
      "execution_count": null,
      "outputs": [
        {
          "output_type": "stream",
          "name": "stdout",
          "text": [
            "3152    NaN\n",
            "5076    NaN\n",
            "Name: research_output, dtype: object\n",
            "\n",
            "Persentase data kotor: 0.03%\n"
          ]
        }
      ]
    },
    {
      "cell_type": "markdown",
      "source": [
        "- Pembersihan:\n",
        "\n",
        "  Data yang kotor ini dibersihkan dengan cara menghapus row dari data yang kotor tersebut.\n",
        "\n",
        "- Solusi Pemrograman: \n",
        "\n",
        "  Menghapus baris pada data `research_output` kosong"
      ],
      "metadata": {
        "id": "FM37_rQOnLdJ"
      }
    },
    {
      "cell_type": "code",
      "source": [
        "# Cleaning research_output\n",
        "df_chg_uncleaned = df_chg_uncleaned.dropna(subset=[\"research_output\"])"
      ],
      "metadata": {
        "id": "xeZnYLDsjkDT"
      },
      "execution_count": null,
      "outputs": []
    },
    {
      "cell_type": "markdown",
      "source": [
        "## **8. Atribut `student_faculty_ratio`**\n",
        "- Deskripsi:\n",
        "\n",
        "  Kekotoran data Pada atribut score berupa data yang kosong. Persentase kekotoran data pada atribut ini adalah 1.16%."
      ],
      "metadata": {
        "id": "eoBN-MHXjkJN"
      }
    },
    {
      "cell_type": "code",
      "source": [
        "# Pengecekan Data kosong (NaN)\n",
        "print(df_uncleaned.loc[df_uncleaned['student_faculty_ratio'].isnull()]['student_faculty_ratio'], end=\"\\n\\n\")\n",
        "\n",
        "# Persentase Kekotoran\n",
        "print(f\"Persentase data kotor: {df_uncleaned['student_faculty_ratio'].isnull().sum()*100/len(df_uncleaned['student_faculty_ratio']):.2f}%\")"
      ],
      "metadata": {
        "colab": {
          "base_uri": "https://localhost:8080/"
        },
        "id": "sXjUI8hgSlvj",
        "outputId": "2ecd7fb8-0301-4760-b9be-1934139f2cf7"
      },
      "execution_count": null,
      "outputs": [
        {
          "output_type": "stream",
          "name": "stdout",
          "text": [
            "165    NaN\n",
            "575    NaN\n",
            "915    NaN\n",
            "917    NaN\n",
            "919    NaN\n",
            "        ..\n",
            "5139   NaN\n",
            "5177   NaN\n",
            "5179   NaN\n",
            "5900   NaN\n",
            "6279   NaN\n",
            "Name: student_faculty_ratio, Length: 75, dtype: float64\n",
            "\n",
            "Persentase data kotor: 1.16%\n"
          ]
        }
      ]
    },
    {
      "cell_type": "markdown",
      "source": [
        "- Pembersihan:\n",
        "\n",
        "  Data yang kotor ini dibersihkan dengan cara menghapus row dari data yang kotor tersebut.\n",
        "\n",
        "- Solusi Pemrograman: \n",
        "\n",
        "  Menghapus baris pada data `student_faculty_ratio` kosong"
      ],
      "metadata": {
        "id": "uptf77BNnWq4"
      }
    },
    {
      "cell_type": "code",
      "source": [
        "# Cleaning student_faculty_ratio\n",
        "df_chg_uncleaned = df_chg_uncleaned.dropna(subset=[\"student_faculty_ratio\"])"
      ],
      "metadata": {
        "id": "oaaLhs54jkPc"
      },
      "execution_count": null,
      "outputs": []
    },
    {
      "cell_type": "markdown",
      "source": [
        "\n",
        "## **9. Atribut `size`**\n",
        "- Deskripsi:\n",
        "\n",
        "  Kekotoran data Pada atribut score berupa data yang kosong. Persentase kekotoran data pada atribut ini adalah 0.03%."
      ],
      "metadata": {
        "id": "QgjvrlyLjkpk"
      }
    },
    {
      "cell_type": "code",
      "source": [
        "# Pengecekan Data kosong (NaN)\n",
        "print(df_uncleaned.loc[df_uncleaned['size'].isnull()]['size'], end=\"\\n\\n\")\n",
        "\n",
        "# Persentase Kekotoran\n",
        "print(f\"Persentase data kotor: {df_uncleaned['size'].isnull().sum()*100/len(df_uncleaned['size']):.2f}%\")"
      ],
      "metadata": {
        "colab": {
          "base_uri": "https://localhost:8080/"
        },
        "id": "oiprE5XoSuFj",
        "outputId": "ca112f8c-ba41-4540-9c74-5fb9861d8e6f"
      },
      "execution_count": null,
      "outputs": [
        {
          "output_type": "stream",
          "name": "stdout",
          "text": [
            "3152    NaN\n",
            "5076    NaN\n",
            "Name: size, dtype: object\n",
            "\n",
            "Persentase data kotor: 0.03%\n"
          ]
        }
      ]
    },
    {
      "cell_type": "markdown",
      "source": [
        "- Pembersihan:\n",
        "\n",
        "  Data yang kotor ini dibersihkan dengan cara menghapus row dari data yang kotor tersebut.\n",
        "\n",
        "- Solusi Pemrograman: \n",
        "\n",
        "  Menghapus baris pada data `size` kosong"
      ],
      "metadata": {
        "id": "YHntk16unq_7"
      }
    },
    {
      "cell_type": "code",
      "source": [
        "# Cleaning size\n",
        "df_chg_uncleaned = df_chg_uncleaned.dropna(subset=[\"size\"])"
      ],
      "metadata": {
        "id": "OT7XNXI7j0yH"
      },
      "execution_count": null,
      "outputs": []
    },
    {
      "cell_type": "markdown",
      "source": [
        "\n",
        "## **10. Atribut `international_students`**\n",
        "- Deskripsi:\n",
        "\n",
        "  Kekotoran data Pada atribut score berupa data yang kosong dan format angka yang salah. Persentase kekotoran data pada atribut ini adalah 37.03%."
      ],
      "metadata": {
        "id": "MAZQEasKjkUW"
      }
    },
    {
      "cell_type": "code",
      "source": [
        "# Mengecek kekotoran data\n",
        "# Format tidak benar\n",
        "print(df_uncleaned.loc[(pd.to_numeric(df_uncleaned['international_students'], errors='coerce').isna()) & (df_uncleaned['international_students'].isnull() == False)]['international_students'], end=\"\\n\\n\")\n",
        "# Data kosong (NaN)\n",
        "print(df_uncleaned.loc[df_uncleaned['international_students'].isnull()]['international_students'], end=\"\\n\\n\")\n",
        "\n",
        "# Persentase data kotor (kosong + salah format)\n",
        "rank_kosong = (df_uncleaned['international_students'].isnull() == True).sum()\n",
        "rank_format = ((pd.to_numeric(df_uncleaned['international_students'], errors='coerce').isna()) & (df_uncleaned['international_students'].isnull() == False)).sum()\n",
        "print(f\"Persentase data kotor adalah {(rank_kosong+rank_format)*100/len(df_uncleaned['international_students']):.2f}%\")"
      ],
      "metadata": {
        "colab": {
          "base_uri": "https://localhost:8080/"
        },
        "id": "HGvsWiOiS2yL",
        "outputId": "72876ea1-a24e-4cff-e693-d9f3675826e6"
      },
      "execution_count": null,
      "outputs": [
        {
          "output_type": "stream",
          "name": "stdout",
          "text": [
            "0       3,730\n",
            "1       3,879\n",
            "2       5,877\n",
            "3       7,925\n",
            "5       8,442\n",
            "        ...  \n",
            "6475    2,441\n",
            "6476    1,976\n",
            "6479    2,826\n",
            "6480    2,394\n",
            "6481    2,300\n",
            "Name: international_students, Length: 2236, dtype: object\n",
            "\n",
            "472     NaN\n",
            "634     NaN\n",
            "678     NaN\n",
            "703     NaN\n",
            "819     NaN\n",
            "       ... \n",
            "6364    NaN\n",
            "6441    NaN\n",
            "6443    NaN\n",
            "6445    NaN\n",
            "6469    NaN\n",
            "Name: international_students, Length: 164, dtype: object\n",
            "\n",
            "Persentase data kotor adalah 37.03%\n"
          ]
        }
      ]
    },
    {
      "cell_type": "markdown",
      "source": [
        "- Pembersihan:\n",
        "\n",
        "  Data yang kotor ini dibersihkan dengan cara menghapus row dari data yang kotor tersebut.\n",
        "\n",
        "- Solusi Pemrograman: \n",
        "\n",
        "  1. Menghapus baris pada data `international_students` yang kosong\n",
        "  2. Menghapus koma (\",\") pada angka\n",
        "  3. Menghapus koma (\".\") pada angka\n",
        "  4. Data jadikan integer"
      ],
      "metadata": {
        "id": "abO89VJZn7Cl"
      }
    },
    {
      "cell_type": "code",
      "source": [
        "# Cleaning atribut international_students\n",
        "df_chg_uncleaned = df_chg_uncleaned.dropna(subset=['international_students']) # Step 1\n",
        "df_chg_uncleaned['international_students'] = df_chg_uncleaned['international_students'].apply(lambda x: str(x).replace(',','')) # Step 2\n",
        "df_chg_uncleaned['international_students'] = df_chg_uncleaned['international_students'].apply(lambda x: str(x).replace('.','')) # Step 3\n",
        "df_chg_uncleaned['international_students'] = df_chg_uncleaned['international_students'].apply(lambda x: int(x)) # Step 4"
      ],
      "metadata": {
        "id": "U-ItEmT5jkk8"
      },
      "execution_count": null,
      "outputs": []
    },
    {
      "cell_type": "markdown",
      "source": [
        "## **11. Atribut `faculty_count`**\n",
        "- Deskripsi:\n",
        "\n",
        "  Kekotoran data Pada atribut score berupa data yang kosong dan format angka yang salah. Persentase kekotoran data pada atribut ini adalah 39.17%."
      ],
      "metadata": {
        "id": "qjlelCF9j093"
      }
    },
    {
      "cell_type": "code",
      "source": [
        "# Mengecek kekotoran data\n",
        "# Format tidak benar\n",
        "print(df_uncleaned.loc[(pd.to_numeric(df_uncleaned['faculty_count'], errors='coerce').isna()) & (df_uncleaned['faculty_count'].isnull() == False)]['faculty_count'], end=\"\\n\\n\")\n",
        "# Data kosong (NaN)\n",
        "print(df_uncleaned.loc[df_uncleaned['faculty_count'].isnull()]['faculty_count'], end=\"\\n\\n\")\n",
        "\n",
        "# Persentase data kotor (kosong + salah format)\n",
        "rank_kosong = (df_uncleaned['faculty_count'].isnull() == True).sum()\n",
        "rank_format = ((pd.to_numeric(df_uncleaned['faculty_count'], errors='coerce').isna()) & (df_uncleaned['faculty_count'].isnull() == False)).sum()\n",
        "print(f\"Persentase data kotor adalah {(rank_kosong+rank_format)*100/len(df_uncleaned['faculty_count']):.2f}%\")"
      ],
      "metadata": {
        "colab": {
          "base_uri": "https://localhost:8080/"
        },
        "id": "vc_pSEHvn4aV",
        "outputId": "9cd7e933-5154-4227-e77f-1fe967f5b4ab"
      },
      "execution_count": null,
      "outputs": [
        {
          "output_type": "stream",
          "name": "stdout",
          "text": [
            "0       3,065\n",
            "1       4,725\n",
            "2       4,646\n",
            "3       5,800\n",
            "5       6,708\n",
            "        ...  \n",
            "6477    1,174\n",
            "6478    3,504\n",
            "6479    1,113\n",
            "6480    1,688\n",
            "6481    5,871\n",
            "Name: faculty_count, Length: 2461, dtype: object\n",
            "\n",
            "213     NaN\n",
            "404     NaN\n",
            "771     NaN\n",
            "890     NaN\n",
            "917     NaN\n",
            "       ... \n",
            "5179    NaN\n",
            "5789    NaN\n",
            "6048    NaN\n",
            "6235    NaN\n",
            "6348    NaN\n",
            "Name: faculty_count, Length: 78, dtype: object\n",
            "\n",
            "Persentase data kotor adalah 39.17%\n"
          ]
        }
      ]
    },
    {
      "cell_type": "markdown",
      "source": [
        "- Pembersihan:\n",
        "\n",
        "  Data yang kotor ini dibersihkan dengan cara menghapus row dari data yang kotor tersebut.\n",
        "\n",
        "- Solusi Pemrograman: \n",
        "\n",
        "  1. Menghapus baris pada data `faculty_count` yang kosong\n",
        "  2. Menghapus koma (\",\") pada angka\n",
        "  3. Menghapus koma (\".\") pada angka\n",
        "  4. Data jadikan integer"
      ],
      "metadata": {
        "id": "GXR_vowjn3hw"
      }
    },
    {
      "cell_type": "code",
      "source": [
        "# Cleaning atribut faculty_count\n",
        "df_chg_uncleaned = df_chg_uncleaned.dropna(subset=['faculty_count']) # Step 1\n",
        "df_chg_uncleaned['faculty_count'] = df_chg_uncleaned['faculty_count'].apply(lambda x: str(x).replace(',','')) # Step 2\n",
        "df_chg_uncleaned['faculty_count'] = df_chg_uncleaned['faculty_count'].apply(lambda x: str(x).replace('.','')) # Step 3\n",
        "df_chg_uncleaned['faculty_count'] = df_chg_uncleaned['faculty_count'].apply(lambda x: int(x)) # Step 4"
      ],
      "metadata": {
        "id": "9zF5XRJEj19V"
      },
      "execution_count": null,
      "outputs": []
    },
    {
      "cell_type": "markdown",
      "source": [
        "## **Convert data**\n",
        "Setelah data dibersihkan, convert data menjadi file format CSV."
      ],
      "metadata": {
        "id": "nLTyqklrlx9m"
      }
    },
    {
      "cell_type": "code",
      "source": [
        "df_uncleaned.to_csv(\"qs_ranking_400_cleaned.csv\", index=False)"
      ],
      "metadata": {
        "id": "nH-d5yy4l_cB"
      },
      "execution_count": null,
      "outputs": []
    },
    {
      "cell_type": "markdown",
      "metadata": {
        "id": "pUrUtUQpRHR9"
      },
      "source": [
        "\n",
        "\n",
        "---\n",
        "\n",
        "\n",
        "# **Statistik**"
      ]
    },
    {
      "cell_type": "code",
      "source": [],
      "metadata": {
        "id": "iIIdoRIt0ApT"
      },
      "execution_count": null,
      "outputs": []
    },
    {
      "cell_type": "markdown",
      "metadata": {
        "id": "Rjd2mj76RJXf"
      },
      "source": [
        "\n",
        "\n",
        "---\n",
        "\n",
        "\n",
        "# **Visualisasi**"
      ]
    },
    {
      "cell_type": "code",
      "execution_count": null,
      "metadata": {
        "colab": {
          "base_uri": "https://localhost:8080/",
          "height": 923
        },
        "id": "fKcShj3YuDjQ",
        "outputId": "1e0cf656-1db0-42c5-f40b-5ab7c6e39d12"
      },
      "outputs": [
        {
          "output_type": "display_data",
          "data": {
            "text/plain": [
              "<Figure size 2016x1008 with 1 Axes>"
            ],
            "image/png": "[encoded data removed]"
          },
          "metadata": {
            "needs_background": "light"
          }
        }
      ],
      "source": [
        "#1.     Perbandingan Kategori\n",
        "\n",
        "  #1.a. Perbandingan Banyak Universitas Top 400 di Setiap Negara didalam Wilayah Tertentu pada 2022\n",
        "    #   Algoritma\n",
        "df['region'] = df['region'].map({'North America':'Amerika Utara','Europe':'Eropa','Asia':'Asia','Oceania':'Oceania','Latin America':'Amerika Latin','Africa':'Afrika'})\n",
        "df[1987:2387].groupby('region')['country'].value_counts().unstack().plot(kind='bar',figsize=(28,14),fontsize=12,stacked=True,legend=True)\n",
        "plt.title('Banyak Universitas Top 400 di Setiap Wilayah pada 2022',fontsize=16)\n",
        "plt.xlabel('Wilayah',fontsize=16)\n",
        "plt.ylabel('Jumlah Universitas',fontsize=16)\n",
        "plt.legend(title='Wilayah:',loc=\"upper center\",mode='expand', ncol=len(df.columns))\n",
        "plt.show()\n",
        "df['region'] = df['region'].map({'Amerika Utara':'North America','Eropa':'Europe','Asia':'Asia','Oceania':'Oceania','Amerika Latin':'Latin America','Afrika':'Africa'})\n",
        "    #   Kesimpulan:\n",
        "      #   Eropa memiliki universitas top 400 yang paling banyak dibandingkan wilayah lainnya disusul oleh Asia dan Amerika Utara.\n",
        "      #   Oceania dan Amerika Latin memiliki Universitas top 100 yang jauh lebih sedikit dibandingkan wilayah lainnya.\n",
        "      #   South Africa merupakan universitas Afrika satu-satunya yang masuk Ranking top 400\n",
        "      #   Amerika Utara dan Oceania hanya memiliki 2 Negara dengan Universitas top 400 yaitu United States dan Canada, dan Australia dan New Zealand."
      ]
    },
    {
      "cell_type": "code",
      "execution_count": null,
      "metadata": {
        "colab": {
          "base_uri": "https://localhost:8080/",
          "height": 414
        },
        "id": "50-Jlur7G5nk",
        "outputId": "66d2e9cd-cd0f-41f4-bfd8-cc7a80b3e2be"
      },
      "outputs": [
        {
          "output_type": "display_data",
          "data": {
            "text/plain": [
              "<Figure size 1296x432 with 1 Axes>"
            ],
            "image/png": "[encoded data removed]"
          },
          "metadata": {
            "needs_background": "light"
          }
        }
      ],
      "source": [
        "  #1.b. Perbandingan Tipe Universitas Top 400 (Swasta/Umum) pada 2022\n",
        "    #   Algoritma\n",
        "df['type'] = df['type'].map({'Private':'Swasta','Public':'Umum'})\n",
        "df[1987:2387]['type'].value_counts().plot(kind='barh',color=('red','blue'),figsize=(18,6),fontsize=12)\n",
        "plt.title('Perbandingan Tipe Universitas Top 400 pada 2022',fontsize=16)\n",
        "plt.xlabel('Frekuensi',fontsize=16)\n",
        "plt.ylabel('Tipe Universitas',fontsize=16)\n",
        "plt.show()\n",
        "df['type'] = df['type'].map({'Swasta':'Private','Umum':'Public'})\n",
        "  #     Alasan pemilihan warna:\n",
        "    #     Swasta = Kapitalis = Blok Barat = NATO    = Biru\n",
        "    #     Umum   = Sosialis  = Blok Timur = Komunis = Merah\n",
        "  #     Kesimpulan:\n",
        "    #     Berdasarkan ranking, universitas terbaik umumnya dimiliki oleh negara."
      ]
    },
    {
      "cell_type": "code",
      "execution_count": null,
      "metadata": {
        "colab": {
          "base_uri": "https://localhost:8080/",
          "height": 523
        },
        "id": "mLfPLBD8G8Jt",
        "outputId": "640748bd-0221-46a7-c745-dd8bed8cbf99"
      },
      "outputs": [
        {
          "output_type": "display_data",
          "data": {
            "text/plain": [
              "<Figure size 1296x576 with 1 Axes>"
            ],
            "image/png": "[encoded data removed]"
          },
          "metadata": {
            "needs_background": "light"
          }
        }
      ],
      "source": [
        "#2.     Penampilan Perubahan terhadap Waktu\n",
        "  #2.a. Perubahan banyak universitas top 400 di setiap wilayahnya terhadap tahun\n",
        "    #   Algoritma\n",
        "df['region'] = df['region'].map({'North America':'Amerika Utara','Europe':'Eropa','Asia':'Asia','Oceania':'Oceania','Latin America':'Amerika Latin','Africa':'Afrika'})\n",
        "df.groupby('year')['region'].value_counts().unstack().plot(kind='area',color=('black','gold','lightcoral','yellowgreen','blueviolet','lightblue'),figsize=(18,8),fontsize=12,stacked=True,legend=True)\n",
        "plt.title('Banyak Universitas Top 400 di Setiap Wilayah ',fontsize=16)\n",
        "plt.xlabel('Wilayah',fontsize=16)\n",
        "plt.ylabel('Jumlah Universitas',fontsize=16)\n",
        "plt.legend(title='Wilayah:',loc=\"center right\")\n",
        "plt.show()\n",
        "df['region'] = df['region'].map({'Amerika Utara':'North America','Eropa':'Europe','Asia':'Asia','Oceania':'Oceania','Amerika Latin':'Latin America','Afrika':'Africa'})\n",
        "    #   Alasan pemilihan warna:\n",
        "      #   Afrika        (black)       : \"Africa Black Continent\"\n",
        "      #   Amerika Utara (lightcoral)  : Warna kulit orang indian yang kemerahan.\n",
        "      #   Eropa         (blueviolet)  : Warna ungu yang melambangkan kekayaan dan kejayaan Kekaisaran Romawi Timur (Bizantium) dan sering kali dikaitkan dengan status royalti/keluarga kerajaan dikarenakan warna ungu yang sangat langka sebelum ditemukan pembuatan warna sintetisnya pada abad ke-19.\n",
        "      #   Asia          (yellowgreen) : Warna didasarkan pada banyaknya hutan rimba di benua Asia terutama di India dan Asia Tenggara.\n",
        "      #   Oceania       (lightblue)   : Warna Lautan Oceania yang dangkal.\n",
        "      #   Amerika Latin (gold)        : Warna Bendera Spanyol yang dulu mempunyai koloni yang sangat besar di wilayah tersebut dan motivasi orang Spanyol untuk mencari Kekayaan (Emas) pada wilayah tersebut.\n",
        "    #   Kesimpulan:\n",
        "      #   Dibandingkan wilayah lainnya, Eropa selalu memiliki universitas top 400 yang jauh lebih banyak."
      ]
    },
    {
      "cell_type": "code",
      "execution_count": null,
      "metadata": {
        "colab": {
          "base_uri": "https://localhost:8080/",
          "height": 537
        },
        "id": "pAaH7slhHAJs",
        "outputId": "5ee937e9-7972-44c7-8407-93c78e4aeab4"
      },
      "outputs": [
        {
          "output_type": "execute_result",
          "data": {
            "text/plain": [
              "[]"
            ]
          },
          "metadata": {},
          "execution_count": 411
        },
        {
          "output_type": "display_data",
          "data": {
            "text/plain": [
              "<Figure size 1152x576 with 1 Axes>"
            ],
            "image/png": "[encoded data removed]"
          },
          "metadata": {
            "needs_background": "light"
          }
        }
      ],
      "source": [
        "  #2.b. Rata-Rata Jumlah Score Universitas Top 400 setiap tahunnya\n",
        "    #   Algoritma\n",
        "df.groupby('year')['score'].mean().plot(kind='line',marker='*',markersize=12,linestyle='-.',figsize=(16,8))\n",
        "plt.xlabel('Tahun',fontsize=16)\n",
        "plt.ylabel('Rata-rata Score',fontsize=16)\n",
        "plt.title('Rata-Rata Jumlah Score Universitas Top 400 setiap tahunnya',fontsize=16)\n",
        "plt.plot()\n",
        "    #   Kesimpulan:\n",
        "     #    Pada tahun 2019 score rata-rata universitas top 400 mengalami penurunan yang cukup signifikan."
      ]
    },
    {
      "cell_type": "code",
      "execution_count": null,
      "metadata": {
        "colab": {
          "base_uri": "https://localhost:8080/",
          "height": 1000
        },
        "id": "akDgN6BGHzek",
        "outputId": "a8e51a1a-89d3-4932-b00d-37ba1cd11471"
      },
      "outputs": [
        {
          "output_type": "display_data",
          "data": {
            "text/plain": [
              "<Figure size 1152x1152 with 1 Axes>"
            ],
            "image/png": "[encoded data removed]"
          },
          "metadata": {}
        },
        {
          "output_type": "display_data",
          "data": {
            "text/plain": [
              "<Figure size 1152x1152 with 1 Axes>"
            ],
            "image/png": "[encoded data removed]"
          },
          "metadata": {}
        }
      ],
      "source": [
        "#3.     Penampilan Hierarki dan Hubungan Keseluruhan-Bagian\n",
        "  #3.a. Total Murid Internasional pada Setiap Wilayah di tahun 2022\n",
        "    #   Algoritma\n",
        "fracs=df[1987:2387].groupby('region')['international_students'].sum()\n",
        "total=sum(fracs)\n",
        "wilayah1=['Afrika','Asia','Eropa','Amerika Latin','Amerika Utara','Oceania']\n",
        "      #3.a.1. Persentase\n",
        "df[1987:2387].groupby('region')['international_students'].sum().plot(kind='pie',figsize=(16,16),fontsize=14,autopct='%.2f%%',colors=('black','yellowgreen','blueviolet','gold','lightcoral','lightblue'),explode=(0.1,0.025,0.05,0,0,0.025),shadow=True,startangle=90,labels=('','','','','',''))\n",
        "plt.xlabel('Wilayah',fontsize=16)\n",
        "plt.ylabel('Persentase Total Murid Internasional',fontsize=16)\n",
        "plt.title('Persentase Total Murid Internasional pada Setiap Wilayah di tahun 2022',fontsize=16)\n",
        "plt.legend(title='Wilayah:',labels=wilayah1)\n",
        "plt.show()\n",
        "      #3.a.2. Jumlah\n",
        "df[1987:2387].groupby('region')['international_students'].sum().plot(kind='pie',figsize=(16,16),fontsize=14,autopct=lambda p: '{:.0f}'.format(p * total / 100),colors=('black','yellowgreen','blueviolet','gold','lightcoral','lightblue'),explode=(0.1,0.025,0.05,0,0,0.025),shadow=True,startangle=90,labels=('','','','','',''))\n",
        "plt.xlabel('Wilayah',fontsize=16)\n",
        "plt.ylabel('Jumlah Murid Internasional',fontsize=16)\n",
        "plt.title('Total Murid Internasional pada Setiap Wilayah di tahun 2022',fontsize=16)\n",
        "plt.legend(title='Wilayah:',labels=wilayah1)\n",
        "plt.show()\n",
        "#   Alasan pemilihan warna:\n",
        "      #   Afrika        (black)       : \"Africa Black Continent\"\n",
        "      #   Amerika Utara (lightcoral)  : Warna kulit orang indian yang kemerahan.\n",
        "      #   Eropa         (blueviolet)  : Warna ungu yang melambangkan kekayaan dan kejayaan Kekaisaran Romawi Timur (Bizantium) dan sering kali dikaitkan dengan status royalti/keluarga kerajaan dikarenakan warna ungu yang sangat langka sebelum ditemukan pembuatan warna sintetisnya pada abad ke-19.\n",
        "      #   Asia          (yellowgreen) : Warna didasarkan pada banyaknya hutan rimba di benua Asia terutama di India dan Asia Tenggara.\n",
        "      #   Oceania       (lightblue)   : Warna Lautan Oceania yang dangkal.\n",
        "      #   Amerika Latin (gold)        : Warna Bendera Spanyol yang dulu mempunyai koloni yang sangat besar di wilayah tersebut dan motivasi orang Spanyol untuk mencari Kekayaan (Emas) pada wilayah tersebut.\n",
        "    #   Kesimpulan:\n",
        "      #   Eropa memiliki hampir setengah dari total murid internasional Universitas top 400."
      ]
    },
    {
      "cell_type": "code",
      "source": [
        "  #3.b. Total Staff Fakultas Universitas Top 400 di Eropa pada 2022\n",
        "    #Algoritma\n",
        "df_europe=df.loc[(df['region']=='Europe')&(df['year']==2022)]\n",
        "fracs=df_europe.groupby('country')['faculty_count'].sum()\n",
        "total=sum(fracs)\n",
        "      #3.b.1. Persentase\n",
        "df_europe.groupby('country')['faculty_count'].sum().plot(kind='pie',figsize=(18,18),fontsize=0,explode=(0,0,0,0,0,0,0,0,0,0,0,0,0,0,0,0,0,0,0,0.1),shadow=True,startangle=180)\n",
        "df_europe.groupby('country')['faculty_count'].sum().plot(kind='pie',figsize=(18,18),fontsize=14,autopct='%.2f%%',labels=('','','','','','','','','','','','','','','','','','','',''),explode=(0,0,0,0,0,0,0,0,0,0,0,0,0,0,0,0,0,0,0,0.1),shadow=True,startangle=180)\n",
        "plt.xlabel('Negara',fontsize=16)\n",
        "plt.ylabel('Persentase Total Staff Fakultas Universitas Top 400 di Eropa pada 2022',fontsize=16)\n",
        "plt.title('Persentase Total Staff Fakultas Universitas Top 400 di Eropa pada 2022',fontsize=16)\n",
        "plt.legend(title='Negara:')\n",
        "plt.show()\n",
        "      #3.b.2. Jumlah\n",
        "df_europe.groupby('country')['faculty_count'].sum().plot(kind='pie',figsize=(18,18),fontsize=0,explode=(0,0,0,0,0,0,0,0,0,0,0,0,0,0,0,0,0,0,0,0.1),shadow=True,startangle=180)\n",
        "df_europe.groupby('country')['faculty_count'].sum().plot(kind='pie',figsize=(18,18),fontsize=14,autopct=lambda p: '{:.0f}'.format(p * total / 100),labels=('','','','','','','','','','','','','','','','','','','',''),explode=(0,0,0,0,0,0,0,0,0,0,0,0,0,0,0,0,0,0,0,0.1),shadow=True,startangle=180)\n",
        "plt.xlabel('Negara',fontsize=16)\n",
        "plt.ylabel('Jumlah Staff Fakultas Universitas Top 400 di setiap negara Eropa pada 2022',fontsize=16)\n",
        "plt.title('Total Staff Fakultas Universitas Top 400 di Eropa pada 2022',fontsize=16)\n",
        "plt.legend(title='Negara:')\n",
        "plt.show()\n",
        "    #         Kesimpulan:\n",
        "      #         United Kingdom memiliki jumlah Staff Fakultas Terbanyak untuk universitas top 400 di Eropa pada 2022 dengan hampir 1/3 dari staff dimilikinya."
      ],
      "metadata": {
        "colab": {
          "base_uri": "https://localhost:8080/",
          "height": 1000
        },
        "id": "i_MGcvH3hRg9",
        "outputId": "e33d7576-e1bd-48bb-d2da-02d6a1d500f3"
      },
      "execution_count": null,
      "outputs": [
        {
          "output_type": "error",
          "ename": "ValueError",
          "evalue": "ignored",
          "traceback": [
            "\u001b[0;31m---------------------------------------------------------------------------\u001b[0m",
            "\u001b[0;31mValueError\u001b[0m                                Traceback (most recent call last)",
            "\u001b[0;32m<ipython-input-413-7ec7c6f03860>\u001b[0m in \u001b[0;36m<module>\u001b[0;34m\u001b[0m\n\u001b[1;32m      5\u001b[0m \u001b[0mtotal\u001b[0m\u001b[0;34m=\u001b[0m\u001b[0msum\u001b[0m\u001b[0;34m(\u001b[0m\u001b[0mfracs\u001b[0m\u001b[0;34m)\u001b[0m\u001b[0;34m\u001b[0m\u001b[0;34m\u001b[0m\u001b[0m\n\u001b[1;32m      6\u001b[0m     \u001b[0;31m#3.b.1. Persentase\u001b[0m\u001b[0;34m\u001b[0m\u001b[0;34m\u001b[0m\u001b[0;34m\u001b[0m\u001b[0m\n\u001b[0;32m----> 7\u001b[0;31m \u001b[0mdf_europe\u001b[0m\u001b[0;34m.\u001b[0m\u001b[0mgroupby\u001b[0m\u001b[0;34m(\u001b[0m\u001b[0;34m'country'\u001b[0m\u001b[0;34m)\u001b[0m\u001b[0;34m[\u001b[0m\u001b[0;34m'faculty_count'\u001b[0m\u001b[0;34m]\u001b[0m\u001b[0;34m.\u001b[0m\u001b[0msum\u001b[0m\u001b[0;34m(\u001b[0m\u001b[0;34m)\u001b[0m\u001b[0;34m.\u001b[0m\u001b[0mplot\u001b[0m\u001b[0;34m(\u001b[0m\u001b[0mkind\u001b[0m\u001b[0;34m=\u001b[0m\u001b[0;34m'pie'\u001b[0m\u001b[0;34m,\u001b[0m\u001b[0mfigsize\u001b[0m\u001b[0;34m=\u001b[0m\u001b[0;34m(\u001b[0m\u001b[0;36m18\u001b[0m\u001b[0;34m,\u001b[0m\u001b[0;36m18\u001b[0m\u001b[0;34m)\u001b[0m\u001b[0;34m,\u001b[0m\u001b[0mfontsize\u001b[0m\u001b[0;34m=\u001b[0m\u001b[0;36m0\u001b[0m\u001b[0;34m,\u001b[0m\u001b[0mexplode\u001b[0m\u001b[0;34m=\u001b[0m\u001b[0;34m(\u001b[0m\u001b[0;36m0\u001b[0m\u001b[0;34m,\u001b[0m\u001b[0;36m0\u001b[0m\u001b[0;34m,\u001b[0m\u001b[0;36m0\u001b[0m\u001b[0;34m,\u001b[0m\u001b[0;36m0\u001b[0m\u001b[0;34m,\u001b[0m\u001b[0;36m0\u001b[0m\u001b[0;34m,\u001b[0m\u001b[0;36m0\u001b[0m\u001b[0;34m,\u001b[0m\u001b[0;36m0\u001b[0m\u001b[0;34m,\u001b[0m\u001b[0;36m0\u001b[0m\u001b[0;34m,\u001b[0m\u001b[0;36m0\u001b[0m\u001b[0;34m,\u001b[0m\u001b[0;36m0\u001b[0m\u001b[0;34m,\u001b[0m\u001b[0;36m0\u001b[0m\u001b[0;34m,\u001b[0m\u001b[0;36m0\u001b[0m\u001b[0;34m,\u001b[0m\u001b[0;36m0\u001b[0m\u001b[0;34m,\u001b[0m\u001b[0;36m0\u001b[0m\u001b[0;34m,\u001b[0m\u001b[0;36m0\u001b[0m\u001b[0;34m,\u001b[0m\u001b[0;36m0\u001b[0m\u001b[0;34m,\u001b[0m\u001b[0;36m0\u001b[0m\u001b[0;34m,\u001b[0m\u001b[0;36m0\u001b[0m\u001b[0;34m,\u001b[0m\u001b[0;36m0\u001b[0m\u001b[0;34m,\u001b[0m\u001b[0;36m0.1\u001b[0m\u001b[0;34m)\u001b[0m\u001b[0;34m,\u001b[0m\u001b[0mshadow\u001b[0m\u001b[0;34m=\u001b[0m\u001b[0;32mTrue\u001b[0m\u001b[0;34m,\u001b[0m\u001b[0mstartangle\u001b[0m\u001b[0;34m=\u001b[0m\u001b[0;36m180\u001b[0m\u001b[0;34m)\u001b[0m\u001b[0;34m\u001b[0m\u001b[0;34m\u001b[0m\u001b[0m\n\u001b[0m\u001b[1;32m      8\u001b[0m \u001b[0mdf_europe\u001b[0m\u001b[0;34m.\u001b[0m\u001b[0mgroupby\u001b[0m\u001b[0;34m(\u001b[0m\u001b[0;34m'country'\u001b[0m\u001b[0;34m)\u001b[0m\u001b[0;34m[\u001b[0m\u001b[0;34m'faculty_count'\u001b[0m\u001b[0;34m]\u001b[0m\u001b[0;34m.\u001b[0m\u001b[0msum\u001b[0m\u001b[0;34m(\u001b[0m\u001b[0;34m)\u001b[0m\u001b[0;34m.\u001b[0m\u001b[0mplot\u001b[0m\u001b[0;34m(\u001b[0m\u001b[0mkind\u001b[0m\u001b[0;34m=\u001b[0m\u001b[0;34m'pie'\u001b[0m\u001b[0;34m,\u001b[0m\u001b[0mfigsize\u001b[0m\u001b[0;34m=\u001b[0m\u001b[0;34m(\u001b[0m\u001b[0;36m18\u001b[0m\u001b[0;34m,\u001b[0m\u001b[0;36m18\u001b[0m\u001b[0;34m)\u001b[0m\u001b[0;34m,\u001b[0m\u001b[0mfontsize\u001b[0m\u001b[0;34m=\u001b[0m\u001b[0;36m14\u001b[0m\u001b[0;34m,\u001b[0m\u001b[0mautopct\u001b[0m\u001b[0;34m=\u001b[0m\u001b[0;34m'%.2f%%'\u001b[0m\u001b[0;34m,\u001b[0m\u001b[0mlabels\u001b[0m\u001b[0;34m=\u001b[0m\u001b[0;34m(\u001b[0m\u001b[0;34m''\u001b[0m\u001b[0;34m,\u001b[0m\u001b[0;34m''\u001b[0m\u001b[0;34m,\u001b[0m\u001b[0;34m''\u001b[0m\u001b[0;34m,\u001b[0m\u001b[0;34m''\u001b[0m\u001b[0;34m,\u001b[0m\u001b[0;34m''\u001b[0m\u001b[0;34m,\u001b[0m\u001b[0;34m''\u001b[0m\u001b[0;34m,\u001b[0m\u001b[0;34m''\u001b[0m\u001b[0;34m,\u001b[0m\u001b[0;34m''\u001b[0m\u001b[0;34m,\u001b[0m\u001b[0;34m''\u001b[0m\u001b[0;34m,\u001b[0m\u001b[0;34m''\u001b[0m\u001b[0;34m,\u001b[0m\u001b[0;34m''\u001b[0m\u001b[0;34m,\u001b[0m\u001b[0;34m''\u001b[0m\u001b[0;34m,\u001b[0m\u001b[0;34m''\u001b[0m\u001b[0;34m,\u001b[0m\u001b[0;34m''\u001b[0m\u001b[0;34m,\u001b[0m\u001b[0;34m''\u001b[0m\u001b[0;34m,\u001b[0m\u001b[0;34m''\u001b[0m\u001b[0;34m,\u001b[0m\u001b[0;34m''\u001b[0m\u001b[0;34m,\u001b[0m\u001b[0;34m''\u001b[0m\u001b[0;34m,\u001b[0m\u001b[0;34m''\u001b[0m\u001b[0;34m,\u001b[0m\u001b[0;34m''\u001b[0m\u001b[0;34m)\u001b[0m\u001b[0;34m,\u001b[0m\u001b[0mexplode\u001b[0m\u001b[0;34m=\u001b[0m\u001b[0;34m(\u001b[0m\u001b[0;36m0\u001b[0m\u001b[0;34m,\u001b[0m\u001b[0;36m0\u001b[0m\u001b[0;34m,\u001b[0m\u001b[0;36m0\u001b[0m\u001b[0;34m,\u001b[0m\u001b[0;36m0\u001b[0m\u001b[0;34m,\u001b[0m\u001b[0;36m0\u001b[0m\u001b[0;34m,\u001b[0m\u001b[0;36m0\u001b[0m\u001b[0;34m,\u001b[0m\u001b[0;36m0\u001b[0m\u001b[0;34m,\u001b[0m\u001b[0;36m0\u001b[0m\u001b[0;34m,\u001b[0m\u001b[0;36m0\u001b[0m\u001b[0;34m,\u001b[0m\u001b[0;36m0\u001b[0m\u001b[0;34m,\u001b[0m\u001b[0;36m0\u001b[0m\u001b[0;34m,\u001b[0m\u001b[0;36m0\u001b[0m\u001b[0;34m,\u001b[0m\u001b[0;36m0\u001b[0m\u001b[0;34m,\u001b[0m\u001b[0;36m0\u001b[0m\u001b[0;34m,\u001b[0m\u001b[0;36m0\u001b[0m\u001b[0;34m,\u001b[0m\u001b[0;36m0\u001b[0m\u001b[0;34m,\u001b[0m\u001b[0;36m0\u001b[0m\u001b[0;...\n\u001b[1;32m      9\u001b[0m \u001b[0mplt\u001b[0m\u001b[0;34m.\u001b[0m\u001b[0mxlabel\u001b[0m\u001b[0;34m(\u001b[0m\u001b[0;34m'Negara'\u001b[0m\u001b[0;34m,\u001b[0m\u001b[0mfontsize\u001b[0m\u001b[0;34m=\u001b[0m\u001b[0;36m16\u001b[0m\u001b[0;34m)\u001b[0m\u001b[0;34m\u001b[0m\u001b[0;34m\u001b[0m\u001b[0m\n",
            "\u001b[0;32m/usr/local/lib/python3.7/dist-packages/pandas/plotting/_core.py\u001b[0m in \u001b[0;36m__call__\u001b[0;34m(self, *args, **kwargs)\u001b[0m\n\u001b[1;32m    970\u001b[0m                     \u001b[0mdata\u001b[0m\u001b[0;34m.\u001b[0m\u001b[0mcolumns\u001b[0m \u001b[0;34m=\u001b[0m \u001b[0mlabel_name\u001b[0m\u001b[0;34m\u001b[0m\u001b[0;34m\u001b[0m\u001b[0m\n\u001b[1;32m    971\u001b[0m \u001b[0;34m\u001b[0m\u001b[0m\n\u001b[0;32m--> 972\u001b[0;31m         \u001b[0;32mreturn\u001b[0m \u001b[0mplot_backend\u001b[0m\u001b[0;34m.\u001b[0m\u001b[0mplot\u001b[0m\u001b[0;34m(\u001b[0m\u001b[0mdata\u001b[0m\u001b[0;34m,\u001b[0m \u001b[0mkind\u001b[0m\u001b[0;34m=\u001b[0m\u001b[0mkind\u001b[0m\u001b[0;34m,\u001b[0m \u001b[0;34m**\u001b[0m\u001b[0mkwargs\u001b[0m\u001b[0;34m)\u001b[0m\u001b[0;34m\u001b[0m\u001b[0;34m\u001b[0m\u001b[0m\n\u001b[0m\u001b[1;32m    973\u001b[0m \u001b[0;34m\u001b[0m\u001b[0m\n\u001b[1;32m    974\u001b[0m     \u001b[0m__call__\u001b[0m\u001b[0;34m.\u001b[0m\u001b[0m__doc__\u001b[0m \u001b[0;34m=\u001b[0m \u001b[0m__doc__\u001b[0m\u001b[0;34m\u001b[0m\u001b[0;34m\u001b[0m\u001b[0m\n",
            "\u001b[0;32m/usr/local/lib/python3.7/dist-packages/pandas/plotting/_matplotlib/__init__.py\u001b[0m in \u001b[0;36mplot\u001b[0;34m(data, kind, **kwargs)\u001b[0m\n\u001b[1;32m     69\u001b[0m             \u001b[0mkwargs\u001b[0m\u001b[0;34m[\u001b[0m\u001b[0;34m\"ax\"\u001b[0m\u001b[0;34m]\u001b[0m \u001b[0;34m=\u001b[0m \u001b[0mgetattr\u001b[0m\u001b[0;34m(\u001b[0m\u001b[0max\u001b[0m\u001b[0;34m,\u001b[0m \u001b[0;34m\"left_ax\"\u001b[0m\u001b[0;34m,\u001b[0m \u001b[0max\u001b[0m\u001b[0;34m)\u001b[0m\u001b[0;34m\u001b[0m\u001b[0;34m\u001b[0m\u001b[0m\n\u001b[1;32m     70\u001b[0m     \u001b[0mplot_obj\u001b[0m \u001b[0;34m=\u001b[0m \u001b[0mPLOT_CLASSES\u001b[0m\u001b[0;34m[\u001b[0m\u001b[0mkind\u001b[0m\u001b[0;34m]\u001b[0m\u001b[0;34m(\u001b[0m\u001b[0mdata\u001b[0m\u001b[0;34m,\u001b[0m \u001b[0;34m**\u001b[0m\u001b[0mkwargs\u001b[0m\u001b[0;34m)\u001b[0m\u001b[0;34m\u001b[0m\u001b[0;34m\u001b[0m\u001b[0m\n\u001b[0;32m---> 71\u001b[0;31m     \u001b[0mplot_obj\u001b[0m\u001b[0;34m.\u001b[0m\u001b[0mgenerate\u001b[0m\u001b[0;34m(\u001b[0m\u001b[0;34m)\u001b[0m\u001b[0;34m\u001b[0m\u001b[0;34m\u001b[0m\u001b[0m\n\u001b[0m\u001b[1;32m     72\u001b[0m     \u001b[0mplot_obj\u001b[0m\u001b[0;34m.\u001b[0m\u001b[0mdraw\u001b[0m\u001b[0;34m(\u001b[0m\u001b[0;34m)\u001b[0m\u001b[0;34m\u001b[0m\u001b[0;34m\u001b[0m\u001b[0m\n\u001b[1;32m     73\u001b[0m     \u001b[0;32mreturn\u001b[0m \u001b[0mplot_obj\u001b[0m\u001b[0;34m.\u001b[0m\u001b[0mresult\u001b[0m\u001b[0;34m\u001b[0m\u001b[0;34m\u001b[0m\u001b[0m\n",
            "\u001b[0;32m/usr/local/lib/python3.7/dist-packages/pandas/plotting/_matplotlib/core.py\u001b[0m in \u001b[0;36mgenerate\u001b[0;34m(self)\u001b[0m\n\u001b[1;32m    286\u001b[0m         \u001b[0mself\u001b[0m\u001b[0;34m.\u001b[0m\u001b[0m_compute_plot_data\u001b[0m\u001b[0;34m(\u001b[0m\u001b[0;34m)\u001b[0m\u001b[0;34m\u001b[0m\u001b[0;34m\u001b[0m\u001b[0m\n\u001b[1;32m    287\u001b[0m         \u001b[0mself\u001b[0m\u001b[0;34m.\u001b[0m\u001b[0m_setup_subplots\u001b[0m\u001b[0;34m(\u001b[0m\u001b[0;34m)\u001b[0m\u001b[0;34m\u001b[0m\u001b[0;34m\u001b[0m\u001b[0m\n\u001b[0;32m--> 288\u001b[0;31m         \u001b[0mself\u001b[0m\u001b[0;34m.\u001b[0m\u001b[0m_make_plot\u001b[0m\u001b[0;34m(\u001b[0m\u001b[0;34m)\u001b[0m\u001b[0;34m\u001b[0m\u001b[0;34m\u001b[0m\u001b[0m\n\u001b[0m\u001b[1;32m    289\u001b[0m         \u001b[0mself\u001b[0m\u001b[0;34m.\u001b[0m\u001b[0m_add_table\u001b[0m\u001b[0;34m(\u001b[0m\u001b[0;34m)\u001b[0m\u001b[0;34m\u001b[0m\u001b[0;34m\u001b[0m\u001b[0m\n\u001b[1;32m    290\u001b[0m         \u001b[0mself\u001b[0m\u001b[0;34m.\u001b[0m\u001b[0m_make_legend\u001b[0m\u001b[0;34m(\u001b[0m\u001b[0;34m)\u001b[0m\u001b[0;34m\u001b[0m\u001b[0;34m\u001b[0m\u001b[0m\n",
            "\u001b[0;32m/usr/local/lib/python3.7/dist-packages/pandas/plotting/_matplotlib/core.py\u001b[0m in \u001b[0;36m_make_plot\u001b[0;34m(self)\u001b[0m\n\u001b[1;32m   1614\u001b[0m                 \u001b[0;31m# variable has type \"List[Any]\")\u001b[0m\u001b[0;34m\u001b[0m\u001b[0;34m\u001b[0m\u001b[0;34m\u001b[0m\u001b[0m\n\u001b[1;32m   1615\u001b[0m                 \u001b[0mblabels\u001b[0m \u001b[0;34m=\u001b[0m \u001b[0;32mNone\u001b[0m  \u001b[0;31m# type: ignore[assignment]\u001b[0m\u001b[0;34m\u001b[0m\u001b[0;34m\u001b[0m\u001b[0m\n\u001b[0;32m-> 1616\u001b[0;31m             \u001b[0mresults\u001b[0m \u001b[0;34m=\u001b[0m \u001b[0max\u001b[0m\u001b[0;34m.\u001b[0m\u001b[0mpie\u001b[0m\u001b[0;34m(\u001b[0m\u001b[0my\u001b[0m\u001b[0;34m,\u001b[0m \u001b[0mlabels\u001b[0m\u001b[0;34m=\u001b[0m\u001b[0mblabels\u001b[0m\u001b[0;34m,\u001b[0m \u001b[0;34m**\u001b[0m\u001b[0mkwds\u001b[0m\u001b[0;34m)\u001b[0m\u001b[0;34m\u001b[0m\u001b[0;34m\u001b[0m\u001b[0m\n\u001b[0m\u001b[1;32m   1617\u001b[0m \u001b[0;34m\u001b[0m\u001b[0m\n\u001b[1;32m   1618\u001b[0m             \u001b[0;32mif\u001b[0m \u001b[0mkwds\u001b[0m\u001b[0;34m.\u001b[0m\u001b[0mget\u001b[0m\u001b[0;34m(\u001b[0m\u001b[0;34m\"autopct\"\u001b[0m\u001b[0;34m,\u001b[0m \u001b[0;32mNone\u001b[0m\u001b[0;34m)\u001b[0m \u001b[0;32mis\u001b[0m \u001b[0;32mnot\u001b[0m \u001b[0;32mNone\u001b[0m\u001b[0;34m:\u001b[0m\u001b[0;34m\u001b[0m\u001b[0;34m\u001b[0m\u001b[0m\n",
            "\u001b[0;32m/usr/local/lib/python3.7/dist-packages/matplotlib/__init__.py\u001b[0m in \u001b[0;36minner\u001b[0;34m(ax, data, *args, **kwargs)\u001b[0m\n\u001b[1;32m   1563\u001b[0m     \u001b[0;32mdef\u001b[0m \u001b[0minner\u001b[0m\u001b[0;34m(\u001b[0m\u001b[0max\u001b[0m\u001b[0;34m,\u001b[0m \u001b[0;34m*\u001b[0m\u001b[0margs\u001b[0m\u001b[0;34m,\u001b[0m \u001b[0mdata\u001b[0m\u001b[0;34m=\u001b[0m\u001b[0;32mNone\u001b[0m\u001b[0;34m,\u001b[0m \u001b[0;34m**\u001b[0m\u001b[0mkwargs\u001b[0m\u001b[0;34m)\u001b[0m\u001b[0;34m:\u001b[0m\u001b[0;34m\u001b[0m\u001b[0;34m\u001b[0m\u001b[0m\n\u001b[1;32m   1564\u001b[0m         \u001b[0;32mif\u001b[0m \u001b[0mdata\u001b[0m \u001b[0;32mis\u001b[0m \u001b[0;32mNone\u001b[0m\u001b[0;34m:\u001b[0m\u001b[0;34m\u001b[0m\u001b[0;34m\u001b[0m\u001b[0m\n\u001b[0;32m-> 1565\u001b[0;31m             \u001b[0;32mreturn\u001b[0m \u001b[0mfunc\u001b[0m\u001b[0;34m(\u001b[0m\u001b[0max\u001b[0m\u001b[0;34m,\u001b[0m \u001b[0;34m*\u001b[0m\u001b[0mmap\u001b[0m\u001b[0;34m(\u001b[0m\u001b[0msanitize_sequence\u001b[0m\u001b[0;34m,\u001b[0m \u001b[0margs\u001b[0m\u001b[0;34m)\u001b[0m\u001b[0;34m,\u001b[0m \u001b[0;34m**\u001b[0m\u001b[0mkwargs\u001b[0m\u001b[0;34m)\u001b[0m\u001b[0;34m\u001b[0m\u001b[0;34m\u001b[0m\u001b[0m\n\u001b[0m\u001b[1;32m   1566\u001b[0m \u001b[0;34m\u001b[0m\u001b[0m\n\u001b[1;32m   1567\u001b[0m         \u001b[0mbound\u001b[0m \u001b[0;34m=\u001b[0m \u001b[0mnew_sig\u001b[0m\u001b[0;34m.\u001b[0m\u001b[0mbind\u001b[0m\u001b[0;34m(\u001b[0m\u001b[0max\u001b[0m\u001b[0;34m,\u001b[0m \u001b[0;34m*\u001b[0m\u001b[0margs\u001b[0m\u001b[0;34m,\u001b[0m \u001b[0;34m**\u001b[0m\u001b[0mkwargs\u001b[0m\u001b[0;34m)\u001b[0m\u001b[0;34m\u001b[0m\u001b[0;34m\u001b[0m\u001b[0m\n",
            "\u001b[0;32m/usr/local/lib/python3.7/dist-packages/matplotlib/axes/_axes.py\u001b[0m in \u001b[0;36mpie\u001b[0;34m(self, x, explode, labels, colors, autopct, pctdistance, shadow, labeldistance, startangle, radius, counterclock, wedgeprops, textprops, center, frame, rotatelabels)\u001b[0m\n\u001b[1;32m   2929\u001b[0m             \u001b[0;32mraise\u001b[0m \u001b[0mValueError\u001b[0m\u001b[0;34m(\u001b[0m\u001b[0;34m\"'label' must be of length 'x'\"\u001b[0m\u001b[0;34m)\u001b[0m\u001b[0;34m\u001b[0m\u001b[0;34m\u001b[0m\u001b[0m\n\u001b[1;32m   2930\u001b[0m         \u001b[0;32mif\u001b[0m \u001b[0mlen\u001b[0m\u001b[0;34m(\u001b[0m\u001b[0mx\u001b[0m\u001b[0;34m)\u001b[0m \u001b[0;34m!=\u001b[0m \u001b[0mlen\u001b[0m\u001b[0;34m(\u001b[0m\u001b[0mexplode\u001b[0m\u001b[0;34m)\u001b[0m\u001b[0;34m:\u001b[0m\u001b[0;34m\u001b[0m\u001b[0;34m\u001b[0m\u001b[0m\n\u001b[0;32m-> 2931\u001b[0;31m             \u001b[0;32mraise\u001b[0m \u001b[0mValueError\u001b[0m\u001b[0;34m(\u001b[0m\u001b[0;34m\"'explode' must be of length 'x'\"\u001b[0m\u001b[0;34m)\u001b[0m\u001b[0;34m\u001b[0m\u001b[0;34m\u001b[0m\u001b[0m\n\u001b[0m\u001b[1;32m   2932\u001b[0m         \u001b[0;32mif\u001b[0m \u001b[0mcolors\u001b[0m \u001b[0;32mis\u001b[0m \u001b[0;32mNone\u001b[0m\u001b[0;34m:\u001b[0m\u001b[0;34m\u001b[0m\u001b[0;34m\u001b[0m\u001b[0m\n\u001b[1;32m   2933\u001b[0m             \u001b[0mget_next_color\u001b[0m \u001b[0;34m=\u001b[0m \u001b[0mself\u001b[0m\u001b[0;34m.\u001b[0m\u001b[0m_get_patches_for_fill\u001b[0m\u001b[0;34m.\u001b[0m\u001b[0mget_next_color\u001b[0m\u001b[0;34m\u001b[0m\u001b[0;34m\u001b[0m\u001b[0m\n",
            "\u001b[0;31mValueError\u001b[0m: 'explode' must be of length 'x'"
          ]
        },
        {
          "output_type": "display_data",
          "data": {
            "text/plain": [
              "<Figure size 1296x1296 with 1 Axes>"
            ],
            "image/png": "[encoded data removed]"
          },
          "metadata": {
            "needs_background": "light"
          }
        }
      ]
    },
    {
      "cell_type": "code",
      "source": [
        "#4.     Plotting relationships\n",
        "  #4.a. Hubungan Antara Ranking Universitas dan Scorenya pada 2022\n",
        "    #   Algoritma\n",
        "df[1987:2387].plot(kind='scatter',x='rank_display',y='score',figsize=(12,12),color='red')\n",
        "plt.xlabel('Ranking Universitas')\n",
        "plt.ylabel('Score')\n",
        "plt.title('Hubungan Antara Ranking Universitas dan Scorenya pada 2022')\n",
        "plt.show()\n",
        "corr4=df[1987:2387]['rank_display'].corr(df['score'])\n",
        "    #         Kesimpulan:\n",
        "      #         Semakin tinggi ranking (semakin kecil angkanya) sangat cenderung untuk semakin tinggi scorenya."
      ],
      "metadata": {
        "id": "AIYz7YXXtZUR"
      },
      "execution_count": null,
      "outputs": []
    },
    {
      "cell_type": "code",
      "source": [
        "  #4.b. Hubungan Antara Ranking Universitas dan Jumlah Murid Internasionalnya pada 2022\n",
        "    #   Algoritma\n",
        "df[1987:2387].plot(kind='scatter',x='rank_display',y='international_students',figsize=(12,12),color='orange')\n",
        "plt.xlabel('Ranking Universitas')\n",
        "plt.ylabel('Jumlah Murid Internasional')\n",
        "plt.title('Hubungan Antara Ranking Universitas dan Jumlah Murid Internasionalnya pada 2022')\n",
        "plt.show()\n",
        "corr4=df[1987:2387]['rank_display'].corr(df['international_students'])\n",
        "print(corr4)\n",
        "    #         Kesimpulan:\n",
        "      #         Semakin tinggi ranking (semakin kecil angkanya) cenderung untuk semakin tinggi scorenya."
      ],
      "metadata": {
        "id": "sWgeSDgGHl0P"
      },
      "execution_count": null,
      "outputs": []
    },
    {
      "cell_type": "markdown",
      "metadata": {
        "id": "TpSwkY_tRLbe"
      },
      "source": [
        "# **Korelasi**"
      ]
    },
    {
      "cell_type": "code",
      "source": [
        "print(df)"
      ],
      "metadata": {
        "id": "BrBH1zrZLCPD"
      },
      "execution_count": null,
      "outputs": []
    }
  ],
  "metadata": {
    "colab": {
      "provenance": []
    },
    "kernelspec": {
      "display_name": "Python 3",
      "name": "python3"
    },
    "language_info": {
      "name": "python"
    }
  },
  "nbformat": 4,
  "nbformat_minor": 0
}